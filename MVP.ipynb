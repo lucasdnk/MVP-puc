{
 "cells": [
  {
   "cell_type": "code",
   "execution_count": 1,
   "metadata": {},
   "outputs": [],
   "source": [
    "# Configuração para não exibir os warnings\n",
    "import warnings\n",
    "warnings.filterwarnings(\"ignore\")\n",
    "\n",
    "# Imports necessários\n",
    "import pandas as pd\n",
    "import numpy as np\n",
    "import matplotlib.pyplot as plt\n",
    "from sklearn.model_selection import train_test_split # para particionar em bases de treino e teste (holdout)\n",
    "from sklearn.model_selection import KFold # para preparar os folds da validação cruzada\n",
    "from sklearn.model_selection import cross_val_score # para executar a validação cruzada\n",
    "from sklearn.metrics import accuracy_score, precision_score, recall_score, f1_score\n",
    "from sklearn.neighbors import KNeighborsClassifier # algoritmo KNN\n",
    "from sklearn.tree import DecisionTreeClassifier # algoritmo Árvore de Classificação\n",
    "from sklearn.naive_bayes import GaussianNB # algoritmo Naive Bayes\n",
    "from sklearn.svm import SVC # algoritmo SVM\n",
    "from sklearn.preprocessing import LabelEncoder # para transformar os labels em números\n",
    "from sklearn.linear_model import LogisticRegression\n",
    "from sklearn.ensemble import BaggingClassifier\n",
    "from sklearn.ensemble import RandomForestClassifier\n",
    "from sklearn.ensemble import ExtraTreesClassifier\n",
    "from sklearn.ensemble import VotingClassifier\n",
    "from sklearn.ensemble import AdaBoostClassifier\n",
    "from sklearn.ensemble import GradientBoostingClassifier\n",
    "from sklearn.pipeline import Pipeline\n",
    "from sklearn.model_selection import GridSearchCV\n",
    "from sklearn.model_selection import StratifiedKFold\n",
    "from sklearn.preprocessing import StandardScaler\n",
    "from sklearn.preprocessing import MinMaxScaler\n",
    "from sklearn.feature_selection import SelectKBest # para a Seleção Univariada\n",
    "from sklearn.feature_selection import f_classif # para o teste ANOVA da Seleção Univariada\n",
    "from sklearn.feature_selection import RFE # para a Eliminação Recursiva de Atributos"
   ]
  },
  {
   "cell_type": "code",
   "execution_count": 2,
   "metadata": {},
   "outputs": [],
   "source": [
    "#criando datasets pandas\n",
    "db = pd.read_csv(r'bank-full.csv', sep=';')# https://www.kaggle.com/datasets/mahdiehhajian/bank-marketing\n"
   ]
  },
  {
   "cell_type": "code",
   "execution_count": 3,
   "metadata": {},
   "outputs": [
    {
     "data": {
      "text/html": [
       "<div>\n",
       "<style scoped>\n",
       "    .dataframe tbody tr th:only-of-type {\n",
       "        vertical-align: middle;\n",
       "    }\n",
       "\n",
       "    .dataframe tbody tr th {\n",
       "        vertical-align: top;\n",
       "    }\n",
       "\n",
       "    .dataframe thead th {\n",
       "        text-align: right;\n",
       "    }\n",
       "</style>\n",
       "<table border=\"1\" class=\"dataframe\">\n",
       "  <thead>\n",
       "    <tr style=\"text-align: right;\">\n",
       "      <th></th>\n",
       "      <th>age</th>\n",
       "      <th>job</th>\n",
       "      <th>marital</th>\n",
       "      <th>education</th>\n",
       "      <th>default</th>\n",
       "      <th>balance</th>\n",
       "      <th>housing</th>\n",
       "      <th>loan</th>\n",
       "      <th>contact</th>\n",
       "      <th>day</th>\n",
       "      <th>month</th>\n",
       "      <th>duration</th>\n",
       "      <th>campaign</th>\n",
       "      <th>pdays</th>\n",
       "      <th>previous</th>\n",
       "      <th>poutcome</th>\n",
       "      <th>y</th>\n",
       "    </tr>\n",
       "  </thead>\n",
       "  <tbody>\n",
       "    <tr>\n",
       "      <th>0</th>\n",
       "      <td>58</td>\n",
       "      <td>management</td>\n",
       "      <td>married</td>\n",
       "      <td>tertiary</td>\n",
       "      <td>no</td>\n",
       "      <td>2143</td>\n",
       "      <td>yes</td>\n",
       "      <td>no</td>\n",
       "      <td>unknown</td>\n",
       "      <td>5</td>\n",
       "      <td>may</td>\n",
       "      <td>261</td>\n",
       "      <td>1</td>\n",
       "      <td>-1</td>\n",
       "      <td>0</td>\n",
       "      <td>unknown</td>\n",
       "      <td>no</td>\n",
       "    </tr>\n",
       "    <tr>\n",
       "      <th>1</th>\n",
       "      <td>44</td>\n",
       "      <td>technician</td>\n",
       "      <td>single</td>\n",
       "      <td>secondary</td>\n",
       "      <td>no</td>\n",
       "      <td>29</td>\n",
       "      <td>yes</td>\n",
       "      <td>no</td>\n",
       "      <td>unknown</td>\n",
       "      <td>5</td>\n",
       "      <td>may</td>\n",
       "      <td>151</td>\n",
       "      <td>1</td>\n",
       "      <td>-1</td>\n",
       "      <td>0</td>\n",
       "      <td>unknown</td>\n",
       "      <td>no</td>\n",
       "    </tr>\n",
       "    <tr>\n",
       "      <th>2</th>\n",
       "      <td>33</td>\n",
       "      <td>entrepreneur</td>\n",
       "      <td>married</td>\n",
       "      <td>secondary</td>\n",
       "      <td>no</td>\n",
       "      <td>2</td>\n",
       "      <td>yes</td>\n",
       "      <td>yes</td>\n",
       "      <td>unknown</td>\n",
       "      <td>5</td>\n",
       "      <td>may</td>\n",
       "      <td>76</td>\n",
       "      <td>1</td>\n",
       "      <td>-1</td>\n",
       "      <td>0</td>\n",
       "      <td>unknown</td>\n",
       "      <td>no</td>\n",
       "    </tr>\n",
       "    <tr>\n",
       "      <th>3</th>\n",
       "      <td>47</td>\n",
       "      <td>blue-collar</td>\n",
       "      <td>married</td>\n",
       "      <td>unknown</td>\n",
       "      <td>no</td>\n",
       "      <td>1506</td>\n",
       "      <td>yes</td>\n",
       "      <td>no</td>\n",
       "      <td>unknown</td>\n",
       "      <td>5</td>\n",
       "      <td>may</td>\n",
       "      <td>92</td>\n",
       "      <td>1</td>\n",
       "      <td>-1</td>\n",
       "      <td>0</td>\n",
       "      <td>unknown</td>\n",
       "      <td>no</td>\n",
       "    </tr>\n",
       "    <tr>\n",
       "      <th>4</th>\n",
       "      <td>33</td>\n",
       "      <td>unknown</td>\n",
       "      <td>single</td>\n",
       "      <td>unknown</td>\n",
       "      <td>no</td>\n",
       "      <td>1</td>\n",
       "      <td>no</td>\n",
       "      <td>no</td>\n",
       "      <td>unknown</td>\n",
       "      <td>5</td>\n",
       "      <td>may</td>\n",
       "      <td>198</td>\n",
       "      <td>1</td>\n",
       "      <td>-1</td>\n",
       "      <td>0</td>\n",
       "      <td>unknown</td>\n",
       "      <td>no</td>\n",
       "    </tr>\n",
       "    <tr>\n",
       "      <th>...</th>\n",
       "      <td>...</td>\n",
       "      <td>...</td>\n",
       "      <td>...</td>\n",
       "      <td>...</td>\n",
       "      <td>...</td>\n",
       "      <td>...</td>\n",
       "      <td>...</td>\n",
       "      <td>...</td>\n",
       "      <td>...</td>\n",
       "      <td>...</td>\n",
       "      <td>...</td>\n",
       "      <td>...</td>\n",
       "      <td>...</td>\n",
       "      <td>...</td>\n",
       "      <td>...</td>\n",
       "      <td>...</td>\n",
       "      <td>...</td>\n",
       "    </tr>\n",
       "    <tr>\n",
       "      <th>45206</th>\n",
       "      <td>51</td>\n",
       "      <td>technician</td>\n",
       "      <td>married</td>\n",
       "      <td>tertiary</td>\n",
       "      <td>no</td>\n",
       "      <td>825</td>\n",
       "      <td>no</td>\n",
       "      <td>no</td>\n",
       "      <td>cellular</td>\n",
       "      <td>17</td>\n",
       "      <td>nov</td>\n",
       "      <td>977</td>\n",
       "      <td>3</td>\n",
       "      <td>-1</td>\n",
       "      <td>0</td>\n",
       "      <td>unknown</td>\n",
       "      <td>yes</td>\n",
       "    </tr>\n",
       "    <tr>\n",
       "      <th>45207</th>\n",
       "      <td>71</td>\n",
       "      <td>retired</td>\n",
       "      <td>divorced</td>\n",
       "      <td>primary</td>\n",
       "      <td>no</td>\n",
       "      <td>1729</td>\n",
       "      <td>no</td>\n",
       "      <td>no</td>\n",
       "      <td>cellular</td>\n",
       "      <td>17</td>\n",
       "      <td>nov</td>\n",
       "      <td>456</td>\n",
       "      <td>2</td>\n",
       "      <td>-1</td>\n",
       "      <td>0</td>\n",
       "      <td>unknown</td>\n",
       "      <td>yes</td>\n",
       "    </tr>\n",
       "    <tr>\n",
       "      <th>45208</th>\n",
       "      <td>72</td>\n",
       "      <td>retired</td>\n",
       "      <td>married</td>\n",
       "      <td>secondary</td>\n",
       "      <td>no</td>\n",
       "      <td>5715</td>\n",
       "      <td>no</td>\n",
       "      <td>no</td>\n",
       "      <td>cellular</td>\n",
       "      <td>17</td>\n",
       "      <td>nov</td>\n",
       "      <td>1127</td>\n",
       "      <td>5</td>\n",
       "      <td>184</td>\n",
       "      <td>3</td>\n",
       "      <td>success</td>\n",
       "      <td>yes</td>\n",
       "    </tr>\n",
       "    <tr>\n",
       "      <th>45209</th>\n",
       "      <td>57</td>\n",
       "      <td>blue-collar</td>\n",
       "      <td>married</td>\n",
       "      <td>secondary</td>\n",
       "      <td>no</td>\n",
       "      <td>668</td>\n",
       "      <td>no</td>\n",
       "      <td>no</td>\n",
       "      <td>telephone</td>\n",
       "      <td>17</td>\n",
       "      <td>nov</td>\n",
       "      <td>508</td>\n",
       "      <td>4</td>\n",
       "      <td>-1</td>\n",
       "      <td>0</td>\n",
       "      <td>unknown</td>\n",
       "      <td>no</td>\n",
       "    </tr>\n",
       "    <tr>\n",
       "      <th>45210</th>\n",
       "      <td>37</td>\n",
       "      <td>entrepreneur</td>\n",
       "      <td>married</td>\n",
       "      <td>secondary</td>\n",
       "      <td>no</td>\n",
       "      <td>2971</td>\n",
       "      <td>no</td>\n",
       "      <td>no</td>\n",
       "      <td>cellular</td>\n",
       "      <td>17</td>\n",
       "      <td>nov</td>\n",
       "      <td>361</td>\n",
       "      <td>2</td>\n",
       "      <td>188</td>\n",
       "      <td>11</td>\n",
       "      <td>other</td>\n",
       "      <td>no</td>\n",
       "    </tr>\n",
       "  </tbody>\n",
       "</table>\n",
       "<p>45211 rows × 17 columns</p>\n",
       "</div>"
      ],
      "text/plain": [
       "       age           job   marital  education default  balance housing loan  \\\n",
       "0       58    management   married   tertiary      no     2143     yes   no   \n",
       "1       44    technician    single  secondary      no       29     yes   no   \n",
       "2       33  entrepreneur   married  secondary      no        2     yes  yes   \n",
       "3       47   blue-collar   married    unknown      no     1506     yes   no   \n",
       "4       33       unknown    single    unknown      no        1      no   no   \n",
       "...    ...           ...       ...        ...     ...      ...     ...  ...   \n",
       "45206   51    technician   married   tertiary      no      825      no   no   \n",
       "45207   71       retired  divorced    primary      no     1729      no   no   \n",
       "45208   72       retired   married  secondary      no     5715      no   no   \n",
       "45209   57   blue-collar   married  secondary      no      668      no   no   \n",
       "45210   37  entrepreneur   married  secondary      no     2971      no   no   \n",
       "\n",
       "         contact  day month  duration  campaign  pdays  previous poutcome    y  \n",
       "0        unknown    5   may       261         1     -1         0  unknown   no  \n",
       "1        unknown    5   may       151         1     -1         0  unknown   no  \n",
       "2        unknown    5   may        76         1     -1         0  unknown   no  \n",
       "3        unknown    5   may        92         1     -1         0  unknown   no  \n",
       "4        unknown    5   may       198         1     -1         0  unknown   no  \n",
       "...          ...  ...   ...       ...       ...    ...       ...      ...  ...  \n",
       "45206   cellular   17   nov       977         3     -1         0  unknown  yes  \n",
       "45207   cellular   17   nov       456         2     -1         0  unknown  yes  \n",
       "45208   cellular   17   nov      1127         5    184         3  success  yes  \n",
       "45209  telephone   17   nov       508         4     -1         0  unknown   no  \n",
       "45210   cellular   17   nov       361         2    188        11    other   no  \n",
       "\n",
       "[45211 rows x 17 columns]"
      ]
     },
     "metadata": {},
     "output_type": "display_data"
    }
   ],
   "source": [
    "#visualizar os dados\n",
    "display(db)"
   ]
  },
  {
   "cell_type": "markdown",
   "metadata": {},
   "source": [
    "# <span style=\"color: red\">LIMPEZA E TRATAMENTO DOS DADOS</span>"
   ]
  },
  {
   "cell_type": "code",
   "execution_count": 4,
   "metadata": {},
   "outputs": [],
   "source": [
    "# traduzir o dataset\n",
    "db.columns = ['idade', 'emprego', 'estado_civil', 'educacao', 'default', 'balanco_medio_anual', 'hipoteca', 'emprestimo_pessoal', 'contato', 'dia', 'mes', 'duracao_chamada', 'qtd_contatos', 'dias_ultimo_contato', 'qtd_contatos_total', 'campanha_anterior', 'resultado']\n"
   ]
  },
  {
   "cell_type": "code",
   "execution_count": 5,
   "metadata": {},
   "outputs": [
    {
     "data": {
      "text/plain": [
       "array(['management', 'technician', 'entrepreneur', 'blue-collar',\n",
       "       'unknown', 'retired', 'admin.', 'services', 'self-employed',\n",
       "       'unemployed', 'housemaid', 'student'], dtype=object)"
      ]
     },
     "metadata": {},
     "output_type": "display_data"
    },
    {
     "data": {
      "text/plain": [
       "array(['married', 'single', 'divorced'], dtype=object)"
      ]
     },
     "metadata": {},
     "output_type": "display_data"
    },
    {
     "data": {
      "text/plain": [
       "array(['tertiary', 'secondary', 'unknown', 'primary'], dtype=object)"
      ]
     },
     "metadata": {},
     "output_type": "display_data"
    },
    {
     "data": {
      "text/plain": [
       "array(['no', 'yes'], dtype=object)"
      ]
     },
     "metadata": {},
     "output_type": "display_data"
    },
    {
     "data": {
      "text/plain": [
       "array(['yes', 'no'], dtype=object)"
      ]
     },
     "metadata": {},
     "output_type": "display_data"
    },
    {
     "data": {
      "text/plain": [
       "array(['no', 'yes'], dtype=object)"
      ]
     },
     "metadata": {},
     "output_type": "display_data"
    },
    {
     "data": {
      "text/plain": [
       "array(['unknown', 'cellular', 'telephone'], dtype=object)"
      ]
     },
     "metadata": {},
     "output_type": "display_data"
    },
    {
     "data": {
      "text/plain": [
       "array(['unknown', 'failure', 'other', 'success'], dtype=object)"
      ]
     },
     "metadata": {},
     "output_type": "display_data"
    }
   ],
   "source": [
    "display(db['emprego'].unique(),\n",
    "db['estado_civil'].unique(),\n",
    "db['educacao'].unique(),\n",
    "db['default'].unique(),\n",
    "db['hipoteca'].unique(),\n",
    "db['emprestimo_pessoal'].unique(),\n",
    "db['contato'].unique(),\n",
    "db['campanha_anterior'].unique())\n"
   ]
  },
  {
   "cell_type": "code",
   "execution_count": 6,
   "metadata": {},
   "outputs": [
    {
     "name": "stdout",
     "output_type": "stream",
     "text": [
      "\n",
      "Valores únicos em emprego:\n",
      "['gerência' 'técnico' 'empreendedor' 'operário' 'desconhecido'\n",
      " 'aposentado' 'administrativo' 'serviços' 'autônomo' 'desempregado'\n",
      " 'empregado_doméstico' 'estudante']\n",
      "\n",
      "Valores únicos em estado_civil:\n",
      "['casado' 'solteiro' 'divorciado']\n",
      "\n",
      "Valores únicos em educacao:\n",
      "['superior' 'secundário' 'desconhecido' 'primário']\n",
      "\n",
      "Valores únicos em default:\n",
      "['não' 'sim']\n",
      "\n",
      "Valores únicos em hipoteca:\n",
      "['sim' 'não']\n",
      "\n",
      "Valores únicos em emprestimo_pessoal:\n",
      "['não' 'sim']\n",
      "\n",
      "Valores únicos em contato:\n",
      "['desconhecido' 'celular' 'telefone']\n",
      "\n",
      "Valores únicos em campanha_anterior:\n",
      "['desconhecido' 'falha' 'outro' 'sucesso']\n"
     ]
    }
   ],
   "source": [
    "# Tradução dos empregos\n",
    "traducao_empregos = {\n",
    "    'management': 'gerência',\n",
    "    'technician': 'técnico',\n",
    "    'entrepreneur': 'empreendedor',\n",
    "    'blue-collar': 'operário',\n",
    "    'unknown': 'desconhecido',\n",
    "    'retired': 'aposentado',\n",
    "    'admin.': 'administrativo',\n",
    "    'services': 'serviços',\n",
    "    'self-employed': 'autônomo',\n",
    "    'unemployed': 'desempregado',\n",
    "    'housemaid': 'empregado_doméstico',\n",
    "    'student': 'estudante'\n",
    "}\n",
    "\n",
    "# Tradução do estado civil\n",
    "traducao_estado_civil = {\n",
    "    'married': 'casado',\n",
    "    'single': 'solteiro',\n",
    "    'divorced': 'divorciado',\n",
    "    'unknown': 'desconhecido'\n",
    "}\n",
    "\n",
    "# Tradução da educação\n",
    "traducao_educacao = {\n",
    "    'tertiary': 'superior',\n",
    "    'secondary': 'secundário',\n",
    "    'unknown': 'desconhecido',\n",
    "    'primary': 'primário'\n",
    "}\n",
    "\n",
    "# Tradução default\n",
    "traducao_default = {\n",
    "    'yes': 'sim',\n",
    "    'no': 'não',\n",
    "    'unknown': 'desconhecido'\n",
    "}\n",
    "\n",
    "# Tradução hipoteca e empréstimo pessoal\n",
    "traducao_sim_nao = {\n",
    "    'yes': 'sim',\n",
    "    'no': 'não'\n",
    "}\n",
    "\n",
    "# Tradução tipo de contato\n",
    "traducao_contato = {\n",
    "    'unknown': 'desconhecido',\n",
    "    'cellular': 'celular',\n",
    "    'telephone': 'telefone'\n",
    "}\n",
    "\n",
    "# Tradução resultado da campanha anterior\n",
    "traducao_campanha = {\n",
    "    'unknown': 'desconhecido',\n",
    "    'failure': 'falha',\n",
    "    'other': 'outro',\n",
    "    'success': 'sucesso'\n",
    "}\n",
    "# traduzir o resultado\n",
    "traducao_resultado = {\n",
    "    'yes': 'sim',\n",
    "    'no': 'não'\n",
    "}\n",
    "\n",
    "# Aplicar todas as traduções\n",
    "db['emprego'] = db['emprego'].map(traducao_empregos)\n",
    "db['estado_civil'] = db['estado_civil'].map(traducao_estado_civil)\n",
    "db['educacao'] = db['educacao'].map(traducao_educacao)\n",
    "db['default'] = db['default'].map(traducao_default)\n",
    "db['hipoteca'] = db['hipoteca'].map(traducao_sim_nao)\n",
    "db['emprestimo_pessoal'] = db['emprestimo_pessoal'].map(traducao_sim_nao)\n",
    "db['contato'] = db['contato'].map(traducao_contato)\n",
    "db['campanha_anterior'] = db['campanha_anterior'].map(traducao_campanha)\n",
    "db['resultado'] = db['resultado'].map(traducao_resultado)\n",
    "\n",
    "# Verificar o resultado\n",
    "for coluna in ['emprego', 'estado_civil', 'educacao', 'default', 'hipoteca', 'emprestimo_pessoal', 'contato', 'campanha_anterior']:\n",
    "    print(f\"\\nValores únicos em {coluna}:\")\n",
    "    print(db[coluna].unique())\n"
   ]
  },
  {
   "cell_type": "code",
   "execution_count": 7,
   "metadata": {},
   "outputs": [
    {
     "data": {
      "text/plain": [
       "'\\n1. idade: Idade do cliente (numérico)\\n2. emprego: Ocupação do cliente (gerência, técnico, empreendedor, operário, desconhecido, aposentado, administrativo, serviços, autônomo, desempregado, empregado_doméstico, estudante)\\n3. estado_civil: Estado civil do cliente (casado, solteiro, divorciado, desconhecido)\\n4. educacao: Nível de educação (superior, secundário, primário, desconhecido)\\n5. default: Cliente tem crédito em default (sim, não, desconhecido)\\n6. balanco_medio_anual: Saldo médio anual em euros (numérico)\\n7. hipoteca: Cliente possui empréstimo habitacional (sim, não)\\n8. emprestimo_pessoal: Cliente possui empréstimo pessoal (sim, não)\\n9. contato: Tipo de contato realizado (celular, telefone, desconhecido)\\n10. dia: Último dia de contato do mês (numérico: 1-31)\\n11. mes: Último mês de contato do ano (categórico: jan-dez)\\n12. duracao_chamada: Duração do último contato em segundos (numérico)\\n13. qtd_contatos: Número de contatos realizados durante esta campanha (numérico)\\n14. dias_ultimo_contato: Número de dias desde o último contato (numérico)\\n15. qtd_contatos_total: Número de contatos realizados antes desta campanha (numérico)\\n16. campanha_anterior: Resultado da campanha anterior (sucesso, falha, outro, desconhecido)\\n17. resultado: Resultado da campanha atual - variável alvo (sim, não)\\n'"
      ]
     },
     "execution_count": 7,
     "metadata": {},
     "output_type": "execute_result"
    }
   ],
   "source": [
    "\"\"\"\n",
    "1. idade: Idade do cliente (numérico)\n",
    "2. emprego: Ocupação do cliente (gerência, técnico, empreendedor, operário, desconhecido, aposentado, administrativo, serviços, autônomo, desempregado, empregado_doméstico, estudante)\n",
    "3. estado_civil: Estado civil do cliente (casado, solteiro, divorciado, desconhecido)\n",
    "4. educacao: Nível de educação (superior, secundário, primário, desconhecido)\n",
    "5. default: Cliente tem crédito em default (sim, não, desconhecido)\n",
    "6. balanco_medio_anual: Saldo médio anual em euros (numérico)\n",
    "7. hipoteca: Cliente possui empréstimo habitacional (sim, não)\n",
    "8. emprestimo_pessoal: Cliente possui empréstimo pessoal (sim, não)\n",
    "9. contato: Tipo de contato realizado (celular, telefone, desconhecido)\n",
    "10. dia: Último dia de contato do mês (numérico: 1-31)\n",
    "11. mes: Último mês de contato do ano (categórico: jan-dez)\n",
    "12. duracao_chamada: Duração do último contato em segundos (numérico)\n",
    "13. qtd_contatos: Número de contatos realizados durante esta campanha (numérico)\n",
    "14. dias_ultimo_contato: Número de dias desde o último contato (numérico)\n",
    "15. qtd_contatos_total: Número de contatos realizados antes desta campanha (numérico)\n",
    "16. campanha_anterior: Resultado da campanha anterior (sucesso, falha, outro, desconhecido)\n",
    "17. resultado: Resultado da campanha atual - variável alvo (sim, não)\n",
    "\"\"\""
   ]
  },
  {
   "cell_type": "code",
   "execution_count": 8,
   "metadata": {},
   "outputs": [
    {
     "data": {
      "text/html": [
       "<div>\n",
       "<style scoped>\n",
       "    .dataframe tbody tr th:only-of-type {\n",
       "        vertical-align: middle;\n",
       "    }\n",
       "\n",
       "    .dataframe tbody tr th {\n",
       "        vertical-align: top;\n",
       "    }\n",
       "\n",
       "    .dataframe thead th {\n",
       "        text-align: right;\n",
       "    }\n",
       "</style>\n",
       "<table border=\"1\" class=\"dataframe\">\n",
       "  <thead>\n",
       "    <tr style=\"text-align: right;\">\n",
       "      <th></th>\n",
       "      <th>idade</th>\n",
       "      <th>balanco_medio_anual</th>\n",
       "      <th>dia</th>\n",
       "      <th>duracao_chamada</th>\n",
       "      <th>qtd_contatos</th>\n",
       "      <th>dias_ultimo_contato</th>\n",
       "      <th>qtd_contatos_total</th>\n",
       "    </tr>\n",
       "  </thead>\n",
       "  <tbody>\n",
       "    <tr>\n",
       "      <th>count</th>\n",
       "      <td>45211.000000</td>\n",
       "      <td>45211.000000</td>\n",
       "      <td>45211.000000</td>\n",
       "      <td>45211.000000</td>\n",
       "      <td>45211.000000</td>\n",
       "      <td>45211.000000</td>\n",
       "      <td>45211.000000</td>\n",
       "    </tr>\n",
       "    <tr>\n",
       "      <th>mean</th>\n",
       "      <td>40.936210</td>\n",
       "      <td>1362.272058</td>\n",
       "      <td>15.806419</td>\n",
       "      <td>258.163080</td>\n",
       "      <td>2.763841</td>\n",
       "      <td>40.197828</td>\n",
       "      <td>0.580323</td>\n",
       "    </tr>\n",
       "    <tr>\n",
       "      <th>std</th>\n",
       "      <td>10.618762</td>\n",
       "      <td>3044.765829</td>\n",
       "      <td>8.322476</td>\n",
       "      <td>257.527812</td>\n",
       "      <td>3.098021</td>\n",
       "      <td>100.128746</td>\n",
       "      <td>2.303441</td>\n",
       "    </tr>\n",
       "    <tr>\n",
       "      <th>min</th>\n",
       "      <td>18.000000</td>\n",
       "      <td>-8019.000000</td>\n",
       "      <td>1.000000</td>\n",
       "      <td>0.000000</td>\n",
       "      <td>1.000000</td>\n",
       "      <td>-1.000000</td>\n",
       "      <td>0.000000</td>\n",
       "    </tr>\n",
       "    <tr>\n",
       "      <th>25%</th>\n",
       "      <td>33.000000</td>\n",
       "      <td>72.000000</td>\n",
       "      <td>8.000000</td>\n",
       "      <td>103.000000</td>\n",
       "      <td>1.000000</td>\n",
       "      <td>-1.000000</td>\n",
       "      <td>0.000000</td>\n",
       "    </tr>\n",
       "    <tr>\n",
       "      <th>50%</th>\n",
       "      <td>39.000000</td>\n",
       "      <td>448.000000</td>\n",
       "      <td>16.000000</td>\n",
       "      <td>180.000000</td>\n",
       "      <td>2.000000</td>\n",
       "      <td>-1.000000</td>\n",
       "      <td>0.000000</td>\n",
       "    </tr>\n",
       "    <tr>\n",
       "      <th>75%</th>\n",
       "      <td>48.000000</td>\n",
       "      <td>1428.000000</td>\n",
       "      <td>21.000000</td>\n",
       "      <td>319.000000</td>\n",
       "      <td>3.000000</td>\n",
       "      <td>-1.000000</td>\n",
       "      <td>0.000000</td>\n",
       "    </tr>\n",
       "    <tr>\n",
       "      <th>max</th>\n",
       "      <td>95.000000</td>\n",
       "      <td>102127.000000</td>\n",
       "      <td>31.000000</td>\n",
       "      <td>4918.000000</td>\n",
       "      <td>63.000000</td>\n",
       "      <td>871.000000</td>\n",
       "      <td>275.000000</td>\n",
       "    </tr>\n",
       "  </tbody>\n",
       "</table>\n",
       "</div>"
      ],
      "text/plain": [
       "              idade  balanco_medio_anual           dia  duracao_chamada  \\\n",
       "count  45211.000000         45211.000000  45211.000000     45211.000000   \n",
       "mean      40.936210          1362.272058     15.806419       258.163080   \n",
       "std       10.618762          3044.765829      8.322476       257.527812   \n",
       "min       18.000000         -8019.000000      1.000000         0.000000   \n",
       "25%       33.000000            72.000000      8.000000       103.000000   \n",
       "50%       39.000000           448.000000     16.000000       180.000000   \n",
       "75%       48.000000          1428.000000     21.000000       319.000000   \n",
       "max       95.000000        102127.000000     31.000000      4918.000000   \n",
       "\n",
       "       qtd_contatos  dias_ultimo_contato  qtd_contatos_total  \n",
       "count  45211.000000         45211.000000        45211.000000  \n",
       "mean       2.763841            40.197828            0.580323  \n",
       "std        3.098021           100.128746            2.303441  \n",
       "min        1.000000            -1.000000            0.000000  \n",
       "25%        1.000000            -1.000000            0.000000  \n",
       "50%        2.000000            -1.000000            0.000000  \n",
       "75%        3.000000            -1.000000            0.000000  \n",
       "max       63.000000           871.000000          275.000000  "
      ]
     },
     "metadata": {},
     "output_type": "display_data"
    }
   ],
   "source": [
    "# procurar outliers, nulos ou valores erroneos\n",
    "db.isnull().sum()\n",
    "display(db.select_dtypes(include=['int64', 'float64']).describe())"
   ]
  },
  {
   "cell_type": "markdown",
   "metadata": {},
   "source": [
    "# <span style=\"color: red\">INICIO DO PROJETO</span>"
   ]
  },
  {
   "cell_type": "markdown",
   "metadata": {},
   "source": [
    "## Preparação dos dados"
   ]
  },
  {
   "cell_type": "code",
   "execution_count": 9,
   "metadata": {},
   "outputs": [
    {
     "name": "stdout",
     "output_type": "stream",
     "text": [
      "LEGENDAS DAS CONVERSÕES:\n",
      "\n",
      "EMPREGO:\n",
      "administrativo: 0\n",
      "aposentado: 1\n",
      "autônomo: 2\n",
      "desconhecido: 3\n",
      "desempregado: 4\n",
      "empreendedor: 5\n",
      "empregado_doméstico: 6\n",
      "estudante: 7\n",
      "gerência: 8\n",
      "operário: 9\n",
      "serviços: 10\n",
      "técnico: 11\n",
      "\n",
      "ESTADO_CIVIL:\n",
      "casado: 0\n",
      "divorciado: 1\n",
      "solteiro: 2\n",
      "\n",
      "EDUCACAO:\n",
      "desconhecido: 0\n",
      "primário: 1\n",
      "secundário: 2\n",
      "superior: 3\n",
      "\n",
      "DEFAULT:\n",
      "não: 0\n",
      "sim: 1\n",
      "\n",
      "HIPOTECA:\n",
      "não: 0\n",
      "sim: 1\n",
      "\n",
      "EMPRESTIMO_PESSOAL:\n",
      "não: 0\n",
      "sim: 1\n",
      "\n",
      "CONTATO:\n",
      "celular: 0\n",
      "desconhecido: 1\n",
      "telefone: 2\n",
      "\n",
      "MES:\n",
      "apr: 0\n",
      "aug: 1\n",
      "dec: 2\n",
      "feb: 3\n",
      "jan: 4\n",
      "jul: 5\n",
      "jun: 6\n",
      "mar: 7\n",
      "may: 8\n",
      "nov: 9\n",
      "oct: 10\n",
      "sep: 11\n",
      "\n",
      "CAMPANHA_ANTERIOR:\n",
      "desconhecido: 0\n",
      "falha: 1\n",
      "outro: 2\n",
      "sucesso: 3\n",
      "\n",
      "RESULTADO:\n",
      "não: 0\n",
      "sim: 1\n"
     ]
    }
   ],
   "source": [
    "# Criar dicionário para armazenar os encoders e legendas\n",
    "encoders = {}\n",
    "legendas = {}\n",
    "\n",
    "# Identificar colunas categóricas\n",
    "colunas_categoricas = ['emprego', 'estado_civil', 'educacao', 'default', \n",
    "                      'hipoteca', 'emprestimo_pessoal', 'contato', 'mes', \n",
    "                      'campanha_anterior', 'resultado']\n",
    "\n",
    "# Converter cada coluna categórica e salvar a legenda\n",
    "for coluna in colunas_categoricas:\n",
    "    # Criar e ajustar o encoder\n",
    "    le = LabelEncoder()\n",
    "    db[coluna] = le.fit_transform(db[coluna])\n",
    "    \n",
    "    # Salvar o encoder e criar legenda\n",
    "    encoders[coluna] = le\n",
    "    legendas[coluna] = dict(zip(le.classes_, le.transform(le.classes_)))\n",
    "\n",
    "# Imprimir as legendas para referência\n",
    "print(\"LEGENDAS DAS CONVERSÕES:\")\n",
    "for coluna, legenda in legendas.items():\n",
    "    print(f\"\\n{coluna.upper()}:\")\n",
    "    for categoria, numero in legenda.items():\n",
    "        print(f\"{categoria}: {numero}\")\n"
   ]
  },
  {
   "cell_type": "code",
   "execution_count": 10,
   "metadata": {},
   "outputs": [],
   "source": [
    "# Separação em bases de treino e teste (holdout)\n",
    "array = db.values\n",
    "X = array[:,0:16] # atributos\n",
    "y = array[:,16] # classe (target)\n",
    "\n",
    "X_train, X_test, y_train, y_test = train_test_split(X, y, test_size=0.20, random_state=7) # faz a divisão\n",
    "\n",
    "# Criando os folds para a validação cruzada\n",
    "scoring = 'accuracy' # métrica de avaliação\n",
    "num_particoes = 10 # número de folds da validação cruzada\n",
    "kfold = KFold(n_splits=num_particoes, shuffle=True, random_state=7) # faz o particionamento em 10 folds"
   ]
  },
  {
   "cell_type": "code",
   "execution_count": 11,
   "metadata": {},
   "outputs": [],
   "source": [
    "# Definindo uma seed global para esta célula de código\n",
    "np.random.seed(7) \n",
    "\n",
    "# Listas para armazenar os modelos, os resultados e os nomes dos modelos\n",
    "models = []\n",
    "results = []\n",
    "names = []\n",
    "\n",
    "# Preparando os modelos e adicionando-os em uma lista\n",
    "models.append(('KNN', KNeighborsClassifier()))\n",
    "models.append(('CART', DecisionTreeClassifier()))\n",
    "models.append(('NB', GaussianNB()))\n",
    "models.append(('SVM', SVC()))\n",
    "models.append(('LR', LogisticRegression(max_iter=200)))"
   ]
  },
  {
   "cell_type": "code",
   "execution_count": 12,
   "metadata": {},
   "outputs": [
    {
     "name": "stdout",
     "output_type": "stream",
     "text": [
      "KNN: 0.883294 (0.004707)\n",
      "CART: 0.871599 (0.005050)\n",
      "NB: 0.853765 (0.007359)\n",
      "SVM: 0.881636 (0.002997)\n",
      "LR: 0.889903 (0.002933)\n"
     ]
    }
   ],
   "source": [
    "# Avaliando um modelo por vez\n",
    "for name, model in models:\n",
    "  cv_results = cross_val_score(model, X_train, y_train, cv=kfold, scoring='accuracy')\n",
    "  results.append(cv_results)\n",
    "  names.append(name)\n",
    "  msg = \"%s: %f (%f)\" % (name, cv_results.mean(), cv_results.std()) # média e desvio padrão dos 10 resultados da validação cruzada\n",
    "  print(msg)"
   ]
  },
  {
   "cell_type": "code",
   "execution_count": 13,
   "metadata": {},
   "outputs": [
    {
     "data": {
      "image/png": "[encoded data removed]",
      "text/plain": [
       "<Figure size 640x480 with 1 Axes>"
      ]
     },
     "metadata": {},
     "output_type": "display_data"
    }
   ],
   "source": [
    "# Boxplot de comparação dos modelos\n",
    "fig = plt.figure() \n",
    "fig.suptitle('Comparação da Acurácia dos Modelos') \n",
    "ax = fig.add_subplot(111) \n",
    "plt.boxplot(results) \n",
    "ax.set_xticklabels(names) \n",
    "plt.show()"
   ]
  },
  {
   "cell_type": "code",
   "execution_count": 14,
   "metadata": {},
   "outputs": [
    {
     "name": "stdout",
     "output_type": "stream",
     "text": [
      "0.8941722879575362\n"
     ]
    }
   ],
   "source": [
    "model = LogisticRegression(max_iter=200)\n",
    "model.fit(X_train, y_train)\n",
    "predictions = model.predict(X_test)\n",
    "print(accuracy_score(y_test, predictions))"
   ]
  },
  {
   "cell_type": "code",
   "execution_count": 15,
   "metadata": {},
   "outputs": [
    {
     "data": {
      "image/png": "[encoded data removed]",
      "text/plain": [
       "<Figure size 1000x600 with 1 Axes>"
      ]
     },
     "metadata": {},
     "output_type": "display_data"
    },
    {
     "name": "stdout",
     "output_type": "stream",
     "text": [
      "Melhor valor de K: 29\n",
      "Melhor acurácia: 0.8859\n"
     ]
    }
   ],
   "source": [
    "# Testando diferentes valores de K\n",
    "k_valores = range(1, 51, 2)  # Testando valores ímpares de K de 1 a 50\n",
    "k_scores = []\n",
    "\n",
    "for k in k_valores:\n",
    "    knn = KNeighborsClassifier(n_neighbors=k)\n",
    "    # Usando validação cruzada para cada valor de K\n",
    "    scores = cross_val_score(knn, X_train, y_train, cv=kfold, scoring='accuracy')\n",
    "    k_scores.append(scores.mean())\n",
    "\n",
    "# Plotando os resultados\n",
    "plt.figure(figsize=(10, 6))\n",
    "plt.plot(k_valores, k_scores, 'bo-')\n",
    "plt.title('Acurácia do KNN para Diferentes Valores de K')\n",
    "plt.xlabel('Valor de K')\n",
    "plt.ylabel('Acurácia Média (Validação Cruzada)')\n",
    "plt.grid(True)\n",
    "plt.show()\n",
    "\n",
    "# Encontrando o melhor K\n",
    "best_k = k_valores[k_scores.index(max(k_scores))]\n",
    "print(f'Melhor valor de K: {best_k}')\n",
    "print(f'Melhor acurácia: {max(k_scores):.4f}')\n"
   ]
  },
  {
   "cell_type": "code",
   "execution_count": 16,
   "metadata": {},
   "outputs": [],
   "source": [
    "#O boxplot mostra que a LR tem uma distribuição de acurácia mais consistente (menor variância)\n",
    "#O KNN, mesmo após a otimização do K, não mostrou uma melhoria significativa em relação à LR\n",
    "#Portanto, a LR é o modelo escolhido para a classificação"
   ]
  },
  {
   "cell_type": "code",
   "execution_count": 17,
   "metadata": {},
   "outputs": [
    {
     "name": "stdout",
     "output_type": "stream",
     "text": [
      "KNN: 0.883294 (0.004707)\n",
      "CART: 0.871682 (0.004874)\n",
      "NB: 0.853765 (0.007359)\n",
      "SVM: 0.881636 (0.002997)\n",
      "LR: 0.889903 (0.002933)\n",
      "Bagging: 0.902842 (0.005458)\n",
      "RF: 0.903257 (0.002900)\n",
      "ET: 0.899331 (0.003194)\n",
      "Ada: 0.899110 (0.002631)\n",
      "GB: 0.902787 (0.003682)\n",
      "Voting: 0.886723 (0.001922)\n"
     ]
    },
    {
     "data": {
      "image/png": "[encoded data removed]",
      "text/plain": [
       "<Figure size 1500x1000 with 1 Axes>"
      ]
     },
     "metadata": {},
     "output_type": "display_data"
    }
   ],
   "source": [
    "# Definindo os parâmetros do classificador base para o BaggingClassifier\n",
    "base = DecisionTreeClassifier()\n",
    "num_trees = 100\n",
    "max_features = 3\n",
    "\n",
    "# Criando os modelos para o VotingClassifier\n",
    "bases = []\n",
    "model1 = LogisticRegression(max_iter=200)\n",
    "bases.append(('logistic', model1))\n",
    "model2 = KNeighborsClassifier(n_neighbors=best_k)\n",
    "bases.append(('KNN', model2))\n",
    "model3 = SVC()\n",
    "bases.append(('svm', model3))\n",
    "\n",
    "# Criando os ensembles e adicionando-os na lista de modelos\n",
    "models.append(('Bagging', BaggingClassifier(estimator=base, n_estimators=num_trees)))\n",
    "models.append(('RF', RandomForestClassifier(n_estimators=num_trees, max_features=max_features)))\n",
    "models.append(('ET', ExtraTreesClassifier(n_estimators=num_trees, max_features=max_features)))\n",
    "models.append(('Ada', AdaBoostClassifier(n_estimators=num_trees)))\n",
    "models.append(('GB', GradientBoostingClassifier(n_estimators=num_trees)))\n",
    "models.append(('Voting', VotingClassifier(bases)))\n",
    "\n",
    "# Listas para armazenar os resultados\n",
    "results = []\n",
    "names = []\n",
    "\n",
    "# Avaliação dos modelos\n",
    "for name, model in models:\n",
    "    cv_results = cross_val_score(model, X_train, y_train, cv=kfold, scoring=scoring)\n",
    "    results.append(cv_results)\n",
    "    names.append(name)\n",
    "    msg = \"%s: %f (%f)\" % (name, cv_results.mean(), cv_results.std())\n",
    "    print(msg)\n",
    "\n",
    "# Boxplot de comparação dos modelos\n",
    "fig = plt.figure(figsize=(15,10)) \n",
    "fig.suptitle('Comparação dos Modelos') \n",
    "ax = fig.add_subplot(111) \n",
    "plt.boxplot(results) \n",
    "ax.set_xticklabels(names) \n",
    "plt.show()"
   ]
  },
  {
   "cell_type": "code",
   "execution_count": 18,
   "metadata": {},
   "outputs": [
    {
     "name": "stdout",
     "output_type": "stream",
     "text": [
      "Acurácia: 0.9097\n",
      "Precisão: 0.6547\n",
      "Recall: 0.4144\n",
      "F1-Score: 0.5075\n"
     ]
    }
   ],
   "source": [
    "model = RandomForestClassifier(n_estimators=num_trees, max_features=max_features)\n",
    "model.fit(X_train, y_train)\n",
    "predictions = model.predict(X_test)\n",
    "\n",
    "# Calculando múltiplas métricas\n",
    "accuracy = accuracy_score(y_test, predictions)\n",
    "precision = precision_score(y_test, predictions)\n",
    "recall = recall_score(y_test, predictions)\n",
    "f1 = f1_score(y_test, predictions)\n",
    "\n",
    "# Imprimindo os resultados\n",
    "print(f'Acurácia: {accuracy:.4f}')\n",
    "print(f'Precisão: {precision:.4f}')\n",
    "print(f'Recall: {recall:.4f}')"
   ]
  },
  {
   "cell_type": "markdown",
   "metadata": {},
   "source": [
    "# FEATURE SELECTION"
   ]
  },
  {
   "cell_type": "code",
   "execution_count": 19,
   "metadata": {},
   "outputs": [
    {
     "data": {
      "image/png": "[encoded data removed]",
      "text/plain": [
       "<Figure size 1200x600 with 1 Axes>"
      ]
     },
     "metadata": {},
     "output_type": "display_data"
    },
    {
     "name": "stdout",
     "output_type": "stream",
     "text": [
      "\n",
      "Importância de cada atributo:\n",
      "duracao_chamada: 0.2852\n",
      "balanco_medio_anual: 0.1091\n",
      "idade: 0.1044\n",
      "dia: 0.0907\n",
      "mes: 0.0854\n",
      "campanha_anterior: 0.0692\n",
      "emprego: 0.0477\n",
      "dias_ultimo_contato: 0.0476\n",
      "qtd_contatos: 0.0394\n",
      "educacao: 0.0273\n",
      "hipoteca: 0.0238\n",
      "qtd_contatos_total: 0.0220\n",
      "estado_civil: 0.0197\n",
      "contato: 0.0167\n",
      "emprestimo_pessoal: 0.0099\n",
      "default: 0.0018\n"
     ]
    }
   ],
   "source": [
    "feature_names = ['idade', 'emprego', 'estado_civil', 'educacao', 'default', \n",
    "                'balanco_medio_anual', 'hipoteca', 'emprestimo_pessoal', \n",
    "                'contato', 'dia', 'mes', 'duracao_chamada', 'qtd_contatos',\n",
    "                'dias_ultimo_contato', 'qtd_contatos_total', 'campanha_anterior']\n",
    "\n",
    "# Criar e treinar o modelo\n",
    "rf_model = RandomForestClassifier(n_estimators=100, random_state=42)\n",
    "rf_model.fit(X_train, y_train)\n",
    "\n",
    "# Obter a importância das features\n",
    "importances = rf_model.feature_importances_\n",
    "\n",
    "# Criar um DataFrame com as importâncias\n",
    "feature_importance_df = pd.DataFrame({\n",
    "    'Feature': feature_names,\n",
    "    'Importance': importances\n",
    "})\n",
    "\n",
    "# Ordenar por importância\n",
    "feature_importance_df = feature_importance_df.sort_values('Importance', ascending=False)\n",
    "\n",
    "# Plotar um gráfico de barras\n",
    "plt.figure(figsize=(12, 6))\n",
    "plt.bar(feature_importance_df['Feature'], feature_importance_df['Importance'])\n",
    "plt.xticks(rotation=45, ha='right')\n",
    "plt.title('Importância dos Atributos')\n",
    "plt.xlabel('Atributos')\n",
    "plt.ylabel('Importância')\n",
    "plt.tight_layout()\n",
    "plt.show()\n",
    "\n",
    "# Imprimir os valores\n",
    "print(\"\\nImportância de cada atributo:\")\n",
    "for idx, row in feature_importance_df.iterrows():\n",
    "    print(f\"{row['Feature']}: {row['Importance']:.4f}\")"
   ]
  },
  {
   "cell_type": "code",
   "execution_count": 24,
   "metadata": {},
   "outputs": [
    {
     "name": "stdout",
     "output_type": "stream",
     "text": [
      "Acurácia: 0.9104\n",
      "Precisão: 0.6599\n",
      "Recall: 0.4183\n"
     ]
    }
   ],
   "source": [
    "db2 = db.drop('default', axis=1)\n",
    "array = db2.values\n",
    "X = array[:,0:15] # atributos\n",
    "y = array[:,15] # classe (target)\n",
    "\n",
    "X_train, X_test, y_train, y_test = train_test_split(X, y, test_size=0.20, random_state=7) # faz a divisão\n",
    "\n",
    "model = RandomForestClassifier(n_estimators=num_trees, max_features=max_features)\n",
    "model.fit(X_train, y_train)\n",
    "predictions = model.predict(X_test)\n",
    "\n",
    "# Calculando múltiplas métricas\n",
    "accuracy = accuracy_score(y_test, predictions)\n",
    "precision = precision_score(y_test, predictions)\n",
    "recall = recall_score(y_test, predictions)\n",
    "f1 = f1_score(y_test, predictions)\n",
    "\n",
    "# Imprimindo os resultados\n",
    "print(f'Acurácia: {accuracy:.4f}')\n",
    "print(f'Precisão: {precision:.4f}')\n",
    "print(f'Recall: {recall:.4f}')\n"
   ]
  },
  {
   "cell_type": "code",
   "execution_count": 26,
   "metadata": {},
   "outputs": [
    {
     "name": "stdout",
     "output_type": "stream",
     "text": [
      "Acurácia: 0.9105\n",
      "Precisão: 0.6556\n",
      "Recall: 0.4291\n"
     ]
    }
   ],
   "source": [
    "db3 = db2.drop('emprestimo_pessoal', axis=1)\n",
    "array = db3.values\n",
    "X = array[:,0:14] # atributos\n",
    "y = array[:,14] # classe (target)\n",
    "\n",
    "X_train, X_test, y_train, y_test = train_test_split(X, y, test_size=0.20, random_state=7) # faz a divisão\n",
    "\n",
    "\n",
    "model = RandomForestClassifier(n_estimators=num_trees, max_features=max_features)\n",
    "model.fit(X_train, y_train)\n",
    "predictions = model.predict(X_test)\n",
    "\n",
    "# Calculando múltiplas métricas\n",
    "accuracy = accuracy_score(y_test, predictions)\n",
    "precision = precision_score(y_test, predictions)\n",
    "recall = recall_score(y_test, predictions)\n",
    "f1 = f1_score(y_test, predictions)\n",
    "\n",
    "# Imprimindo os resultados\n",
    "print(f'Acurácia: {accuracy:.4f}')\n",
    "print(f'Precisão: {precision:.4f}')\n",
    "print(f'Recall: {recall:.4f}')"
   ]
  },
  {
   "cell_type": "code",
   "execution_count": 30,
   "metadata": {},
   "outputs": [
    {
     "name": "stdout",
     "output_type": "stream",
     "text": [
      "Acurácia: 0.9067\n",
      "Precisão: 0.6311\n",
      "Recall: 0.4075\n"
     ]
    }
   ],
   "source": [
    "db4 = db3.drop('contato', axis=1)\n",
    "array = db4.values\n",
    "X = array[:,0:13] # atributos\n",
    "y = array[:,13] # classe (target)\n",
    "\n",
    "X_train, X_test, y_train, y_test = train_test_split(X, y, test_size=0.20, random_state=7) # faz a divisão\n",
    "# Listas para armazenar os modelos, os resultados e os nomes dos modelos\n",
    "\n",
    "model = RandomForestClassifier(n_estimators=num_trees, max_features=max_features)\n",
    "model.fit(X_train, y_train)\n",
    "predictions = model.predict(X_test)\n",
    "\n",
    "# Calculando múltiplas métricas\n",
    "accuracy = accuracy_score(y_test, predictions)\n",
    "precision = precision_score(y_test, predictions)\n",
    "recall = recall_score(y_test, predictions)\n",
    "f1 = f1_score(y_test, predictions)\n",
    "\n",
    "# Imprimindo os resultados\n",
    "print(f'Acurácia: {accuracy:.4f}')\n",
    "print(f'Precisão: {precision:.4f}')\n",
    "print(f'Recall: {recall:.4f}')"
   ]
  }
 ],
 "metadata": {
  "kernelspec": {
   "display_name": "Python 3",
   "language": "python",
   "name": "python3"
  },
  "language_info": {
   "codemirror_mode": {
    "name": "ipython",
    "version": 3
   },
   "file_extension": ".py",
   "mimetype": "text/x-python",
   "name": "python",
   "nbconvert_exporter": "python",
   "pygments_lexer": "ipython3",
   "version": "3.12.2"
  }
 },
 "nbformat": 4,
 "nbformat_minor": 2
}
