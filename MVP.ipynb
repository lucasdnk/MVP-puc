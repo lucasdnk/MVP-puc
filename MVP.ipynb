{
  "cells": [
    {
      "cell_type": "markdown",
      "metadata": {
        "id": "view-in-github",
        "colab_type": "text"
      },
      "source": [
        "<a href=\"https://colab.research.google.com/github/lucasdnk/MVP-puc/blob/main/MVP.ipynb\" target=\"_parent\"><img src=\"https://colab.research.google.com/assets/colab-badge.svg\" alt=\"Open In Colab\"/></a>"
      ]
    },
    {
      "cell_type": "markdown",
      "source": [
        "#INTRODUÇÃO\n",
        "Neste trabalho sera feito um modelo preditivo de machine learning a partir de um banco de dados referente as campanhas de marketing de um Banco portugues com abordagem direta (ligacoes telefonicas), com objetivo de venda de titulos bancarios.\n",
        "O valor deste modelo esta no aprimoramento da estrategia de venda, identificando os perfis de clientes que aderem a esta modalidade de investimento pode-se organizar a prioridade dos contatos aumentando a eficacia do marketing.\n"
      ],
      "metadata": {
        "id": "CZgwtMZH8fs3"
      }
    },
    {
      "cell_type": "markdown",
      "source": [
        "## primeiramente importamos as bibliotecas a serem utilizadas\n"
      ],
      "metadata": {
        "id": "Otg4VFPg-88N"
      }
    },
    {
      "cell_type": "code",
      "execution_count": 26,
      "metadata": {
        "id": "WeFqZ7tb4bYA"
      },
      "outputs": [],
      "source": [
        "# Configuração para não exibir os warnings\n",
        "import warnings\n",
        "warnings.filterwarnings(\"ignore\")\n",
        "\n",
        "# Imports necessários\n",
        "import pandas as pd\n",
        "import numpy as np\n",
        "import matplotlib.pyplot as plt\n",
        "from sklearn.model_selection import train_test_split # para particionar em bases de treino e teste (holdout)\n",
        "from sklearn.model_selection import KFold # para preparar os folds da validação cruzada\n",
        "from sklearn.model_selection import cross_val_score # para executar a validação cruzada\n",
        "from sklearn.metrics import accuracy_score, precision_score, recall_score, f1_score # para medir precisao, acuracia e recall do modelo\n",
        "from sklearn.neighbors import KNeighborsClassifier # algoritmo KNN\n",
        "from sklearn.tree import DecisionTreeClassifier # algoritmo Árvore de Classificação\n",
        "from sklearn.naive_bayes import GaussianNB # algoritmo Naive Bayes\n",
        "from sklearn.svm import SVC # algoritmo SVM\n",
        "from sklearn.preprocessing import LabelEncoder # para transformar os labels em números\n",
        "from sklearn.linear_model import LogisticRegression #algoritmo de regressao logistica\n",
        "from sklearn.ensemble import BaggingClassifier\n",
        "from sklearn.ensemble import RandomForestClassifier\n",
        "from sklearn.ensemble import ExtraTreesClassifier\n",
        "from sklearn.ensemble import VotingClassifier\n",
        "from sklearn.ensemble import AdaBoostClassifier\n",
        "from sklearn.ensemble import GradientBoostingClassifier\n",
        "from sklearn.pipeline import Pipeline\n",
        "from sklearn.model_selection import GridSearchCV\n",
        "from sklearn.model_selection import StratifiedKFold\n",
        "from sklearn.preprocessing import StandardScaler\n",
        "from sklearn.preprocessing import MinMaxScaler\n",
        "from sklearn.feature_selection import SelectKBest # para a Seleção Univariada\n",
        "from sklearn.feature_selection import f_classif # para o teste ANOVA da Seleção Univariada\n",
        "from sklearn.feature_selection import RFE # para a Eliminação Recursiva de Atributos\n",
        "\n",
        "from google.colab import drive"
      ]
    },
    {
      "cell_type": "markdown",
      "source": [
        "### criando datasets pandas a partir do arquivo 'bank-full.csv'"
      ],
      "metadata": {
        "id": "zfsdc_JM_HU8"
      }
    },
    {
      "cell_type": "code",
      "execution_count": 8,
      "metadata": {
        "id": "0xuX4JBD4bYC"
      },
      "outputs": [],
      "source": [
        "db = pd.read_csv(r'https://raw.githubusercontent.com/lucasdnk/MVP-puc/refs/heads/main/bank-full.csv', sep=';')# https://www.kaggle.com/datasets/mahdiehhajian/bank-marketing\n"
      ]
    },
    {
      "cell_type": "markdown",
      "source": [
        "## visualizar o dataset criado"
      ],
      "metadata": {
        "id": "_QPlbYaSACQN"
      }
    },
    {
      "cell_type": "code",
      "execution_count": 9,
      "metadata": {
        "id": "r_-mmuXZ4bYD",
        "colab": {
          "base_uri": "https://localhost:8080/",
          "height": 423
        },
        "outputId": "2d826c6b-e8ff-4274-b61d-35d40d89a37d"
      },
      "outputs": [
        {
          "output_type": "display_data",
          "data": {
            "text/plain": [
              "       age           job   marital  education default  balance housing loan  \\\n",
              "0       58    management   married   tertiary      no     2143     yes   no   \n",
              "1       44    technician    single  secondary      no       29     yes   no   \n",
              "2       33  entrepreneur   married  secondary      no        2     yes  yes   \n",
              "3       47   blue-collar   married    unknown      no     1506     yes   no   \n",
              "4       33       unknown    single    unknown      no        1      no   no   \n",
              "...    ...           ...       ...        ...     ...      ...     ...  ...   \n",
              "45206   51    technician   married   tertiary      no      825      no   no   \n",
              "45207   71       retired  divorced    primary      no     1729      no   no   \n",
              "45208   72       retired   married  secondary      no     5715      no   no   \n",
              "45209   57   blue-collar   married  secondary      no      668      no   no   \n",
              "45210   37  entrepreneur   married  secondary      no     2971      no   no   \n",
              "\n",
              "         contact  day month  duration  campaign  pdays  previous poutcome    y  \n",
              "0        unknown    5   may       261         1     -1         0  unknown   no  \n",
              "1        unknown    5   may       151         1     -1         0  unknown   no  \n",
              "2        unknown    5   may        76         1     -1         0  unknown   no  \n",
              "3        unknown    5   may        92         1     -1         0  unknown   no  \n",
              "4        unknown    5   may       198         1     -1         0  unknown   no  \n",
              "...          ...  ...   ...       ...       ...    ...       ...      ...  ...  \n",
              "45206   cellular   17   nov       977         3     -1         0  unknown  yes  \n",
              "45207   cellular   17   nov       456         2     -1         0  unknown  yes  \n",
              "45208   cellular   17   nov      1127         5    184         3  success  yes  \n",
              "45209  telephone   17   nov       508         4     -1         0  unknown   no  \n",
              "45210   cellular   17   nov       361         2    188        11    other   no  \n",
              "\n",
              "[45211 rows x 17 columns]"
            ],
            "text/html": [
              "\n",
              "  <div id=\"df-0e18c184-a326-4cd9-b28c-61b62252a0f6\" class=\"colab-df-container\">\n",
              "    <div>\n",
              "<style scoped>\n",
              "    .dataframe tbody tr th:only-of-type {\n",
              "        vertical-align: middle;\n",
              "    }\n",
              "\n",
              "    .dataframe tbody tr th {\n",
              "        vertical-align: top;\n",
              "    }\n",
              "\n",
              "    .dataframe thead th {\n",
              "        text-align: right;\n",
              "    }\n",
              "</style>\n",
              "<table border=\"1\" class=\"dataframe\">\n",
              "  <thead>\n",
              "    <tr style=\"text-align: right;\">\n",
              "      <th></th>\n",
              "      <th>age</th>\n",
              "      <th>job</th>\n",
              "      <th>marital</th>\n",
              "      <th>education</th>\n",
              "      <th>default</th>\n",
              "      <th>balance</th>\n",
              "      <th>housing</th>\n",
              "      <th>loan</th>\n",
              "      <th>contact</th>\n",
              "      <th>day</th>\n",
              "      <th>month</th>\n",
              "      <th>duration</th>\n",
              "      <th>campaign</th>\n",
              "      <th>pdays</th>\n",
              "      <th>previous</th>\n",
              "      <th>poutcome</th>\n",
              "      <th>y</th>\n",
              "    </tr>\n",
              "  </thead>\n",
              "  <tbody>\n",
              "    <tr>\n",
              "      <th>0</th>\n",
              "      <td>58</td>\n",
              "      <td>management</td>\n",
              "      <td>married</td>\n",
              "      <td>tertiary</td>\n",
              "      <td>no</td>\n",
              "      <td>2143</td>\n",
              "      <td>yes</td>\n",
              "      <td>no</td>\n",
              "      <td>unknown</td>\n",
              "      <td>5</td>\n",
              "      <td>may</td>\n",
              "      <td>261</td>\n",
              "      <td>1</td>\n",
              "      <td>-1</td>\n",
              "      <td>0</td>\n",
              "      <td>unknown</td>\n",
              "      <td>no</td>\n",
              "    </tr>\n",
              "    <tr>\n",
              "      <th>1</th>\n",
              "      <td>44</td>\n",
              "      <td>technician</td>\n",
              "      <td>single</td>\n",
              "      <td>secondary</td>\n",
              "      <td>no</td>\n",
              "      <td>29</td>\n",
              "      <td>yes</td>\n",
              "      <td>no</td>\n",
              "      <td>unknown</td>\n",
              "      <td>5</td>\n",
              "      <td>may</td>\n",
              "      <td>151</td>\n",
              "      <td>1</td>\n",
              "      <td>-1</td>\n",
              "      <td>0</td>\n",
              "      <td>unknown</td>\n",
              "      <td>no</td>\n",
              "    </tr>\n",
              "    <tr>\n",
              "      <th>2</th>\n",
              "      <td>33</td>\n",
              "      <td>entrepreneur</td>\n",
              "      <td>married</td>\n",
              "      <td>secondary</td>\n",
              "      <td>no</td>\n",
              "      <td>2</td>\n",
              "      <td>yes</td>\n",
              "      <td>yes</td>\n",
              "      <td>unknown</td>\n",
              "      <td>5</td>\n",
              "      <td>may</td>\n",
              "      <td>76</td>\n",
              "      <td>1</td>\n",
              "      <td>-1</td>\n",
              "      <td>0</td>\n",
              "      <td>unknown</td>\n",
              "      <td>no</td>\n",
              "    </tr>\n",
              "    <tr>\n",
              "      <th>3</th>\n",
              "      <td>47</td>\n",
              "      <td>blue-collar</td>\n",
              "      <td>married</td>\n",
              "      <td>unknown</td>\n",
              "      <td>no</td>\n",
              "      <td>1506</td>\n",
              "      <td>yes</td>\n",
              "      <td>no</td>\n",
              "      <td>unknown</td>\n",
              "      <td>5</td>\n",
              "      <td>may</td>\n",
              "      <td>92</td>\n",
              "      <td>1</td>\n",
              "      <td>-1</td>\n",
              "      <td>0</td>\n",
              "      <td>unknown</td>\n",
              "      <td>no</td>\n",
              "    </tr>\n",
              "    <tr>\n",
              "      <th>4</th>\n",
              "      <td>33</td>\n",
              "      <td>unknown</td>\n",
              "      <td>single</td>\n",
              "      <td>unknown</td>\n",
              "      <td>no</td>\n",
              "      <td>1</td>\n",
              "      <td>no</td>\n",
              "      <td>no</td>\n",
              "      <td>unknown</td>\n",
              "      <td>5</td>\n",
              "      <td>may</td>\n",
              "      <td>198</td>\n",
              "      <td>1</td>\n",
              "      <td>-1</td>\n",
              "      <td>0</td>\n",
              "      <td>unknown</td>\n",
              "      <td>no</td>\n",
              "    </tr>\n",
              "    <tr>\n",
              "      <th>...</th>\n",
              "      <td>...</td>\n",
              "      <td>...</td>\n",
              "      <td>...</td>\n",
              "      <td>...</td>\n",
              "      <td>...</td>\n",
              "      <td>...</td>\n",
              "      <td>...</td>\n",
              "      <td>...</td>\n",
              "      <td>...</td>\n",
              "      <td>...</td>\n",
              "      <td>...</td>\n",
              "      <td>...</td>\n",
              "      <td>...</td>\n",
              "      <td>...</td>\n",
              "      <td>...</td>\n",
              "      <td>...</td>\n",
              "      <td>...</td>\n",
              "    </tr>\n",
              "    <tr>\n",
              "      <th>45206</th>\n",
              "      <td>51</td>\n",
              "      <td>technician</td>\n",
              "      <td>married</td>\n",
              "      <td>tertiary</td>\n",
              "      <td>no</td>\n",
              "      <td>825</td>\n",
              "      <td>no</td>\n",
              "      <td>no</td>\n",
              "      <td>cellular</td>\n",
              "      <td>17</td>\n",
              "      <td>nov</td>\n",
              "      <td>977</td>\n",
              "      <td>3</td>\n",
              "      <td>-1</td>\n",
              "      <td>0</td>\n",
              "      <td>unknown</td>\n",
              "      <td>yes</td>\n",
              "    </tr>\n",
              "    <tr>\n",
              "      <th>45207</th>\n",
              "      <td>71</td>\n",
              "      <td>retired</td>\n",
              "      <td>divorced</td>\n",
              "      <td>primary</td>\n",
              "      <td>no</td>\n",
              "      <td>1729</td>\n",
              "      <td>no</td>\n",
              "      <td>no</td>\n",
              "      <td>cellular</td>\n",
              "      <td>17</td>\n",
              "      <td>nov</td>\n",
              "      <td>456</td>\n",
              "      <td>2</td>\n",
              "      <td>-1</td>\n",
              "      <td>0</td>\n",
              "      <td>unknown</td>\n",
              "      <td>yes</td>\n",
              "    </tr>\n",
              "    <tr>\n",
              "      <th>45208</th>\n",
              "      <td>72</td>\n",
              "      <td>retired</td>\n",
              "      <td>married</td>\n",
              "      <td>secondary</td>\n",
              "      <td>no</td>\n",
              "      <td>5715</td>\n",
              "      <td>no</td>\n",
              "      <td>no</td>\n",
              "      <td>cellular</td>\n",
              "      <td>17</td>\n",
              "      <td>nov</td>\n",
              "      <td>1127</td>\n",
              "      <td>5</td>\n",
              "      <td>184</td>\n",
              "      <td>3</td>\n",
              "      <td>success</td>\n",
              "      <td>yes</td>\n",
              "    </tr>\n",
              "    <tr>\n",
              "      <th>45209</th>\n",
              "      <td>57</td>\n",
              "      <td>blue-collar</td>\n",
              "      <td>married</td>\n",
              "      <td>secondary</td>\n",
              "      <td>no</td>\n",
              "      <td>668</td>\n",
              "      <td>no</td>\n",
              "      <td>no</td>\n",
              "      <td>telephone</td>\n",
              "      <td>17</td>\n",
              "      <td>nov</td>\n",
              "      <td>508</td>\n",
              "      <td>4</td>\n",
              "      <td>-1</td>\n",
              "      <td>0</td>\n",
              "      <td>unknown</td>\n",
              "      <td>no</td>\n",
              "    </tr>\n",
              "    <tr>\n",
              "      <th>45210</th>\n",
              "      <td>37</td>\n",
              "      <td>entrepreneur</td>\n",
              "      <td>married</td>\n",
              "      <td>secondary</td>\n",
              "      <td>no</td>\n",
              "      <td>2971</td>\n",
              "      <td>no</td>\n",
              "      <td>no</td>\n",
              "      <td>cellular</td>\n",
              "      <td>17</td>\n",
              "      <td>nov</td>\n",
              "      <td>361</td>\n",
              "      <td>2</td>\n",
              "      <td>188</td>\n",
              "      <td>11</td>\n",
              "      <td>other</td>\n",
              "      <td>no</td>\n",
              "    </tr>\n",
              "  </tbody>\n",
              "</table>\n",
              "<p>45211 rows × 17 columns</p>\n",
              "</div>\n",
              "    <div class=\"colab-df-buttons\">\n",
              "\n",
              "  <div class=\"colab-df-container\">\n",
              "    <button class=\"colab-df-convert\" onclick=\"convertToInteractive('df-0e18c184-a326-4cd9-b28c-61b62252a0f6')\"\n",
              "            title=\"Convert this dataframe to an interactive table.\"\n",
              "            style=\"display:none;\">\n",
              "\n",
              "  <svg xmlns=\"http://www.w3.org/2000/svg\" height=\"24px\" viewBox=\"0 -960 960 960\">\n",
              "    <path d=\"M120-120v-720h720v720H120Zm60-500h600v-160H180v160Zm220 220h160v-160H400v160Zm0 220h160v-160H400v160ZM180-400h160v-160H180v160Zm440 0h160v-160H620v160ZM180-180h160v-160H180v160Zm440 0h160v-160H620v160Z\"/>\n",
              "  </svg>\n",
              "    </button>\n",
              "\n",
              "  <style>\n",
              "    .colab-df-container {\n",
              "      display:flex;\n",
              "      gap: 12px;\n",
              "    }\n",
              "\n",
              "    .colab-df-convert {\n",
              "      background-color: #E8F0FE;\n",
              "      border: none;\n",
              "      border-radius: 50%;\n",
              "      cursor: pointer;\n",
              "      display: none;\n",
              "      fill: #1967D2;\n",
              "      height: 32px;\n",
              "      padding: 0 0 0 0;\n",
              "      width: 32px;\n",
              "    }\n",
              "\n",
              "    .colab-df-convert:hover {\n",
              "      background-color: #E2EBFA;\n",
              "      box-shadow: 0px 1px 2px rgba(60, 64, 67, 0.3), 0px 1px 3px 1px rgba(60, 64, 67, 0.15);\n",
              "      fill: #174EA6;\n",
              "    }\n",
              "\n",
              "    .colab-df-buttons div {\n",
              "      margin-bottom: 4px;\n",
              "    }\n",
              "\n",
              "    [theme=dark] .colab-df-convert {\n",
              "      background-color: #3B4455;\n",
              "      fill: #D2E3FC;\n",
              "    }\n",
              "\n",
              "    [theme=dark] .colab-df-convert:hover {\n",
              "      background-color: #434B5C;\n",
              "      box-shadow: 0px 1px 3px 1px rgba(0, 0, 0, 0.15);\n",
              "      filter: drop-shadow(0px 1px 2px rgba(0, 0, 0, 0.3));\n",
              "      fill: #FFFFFF;\n",
              "    }\n",
              "  </style>\n",
              "\n",
              "    <script>\n",
              "      const buttonEl =\n",
              "        document.querySelector('#df-0e18c184-a326-4cd9-b28c-61b62252a0f6 button.colab-df-convert');\n",
              "      buttonEl.style.display =\n",
              "        google.colab.kernel.accessAllowed ? 'block' : 'none';\n",
              "\n",
              "      async function convertToInteractive(key) {\n",
              "        const element = document.querySelector('#df-0e18c184-a326-4cd9-b28c-61b62252a0f6');\n",
              "        const dataTable =\n",
              "          await google.colab.kernel.invokeFunction('convertToInteractive',\n",
              "                                                    [key], {});\n",
              "        if (!dataTable) return;\n",
              "\n",
              "        const docLinkHtml = 'Like what you see? Visit the ' +\n",
              "          '<a target=\"_blank\" href=https://colab.research.google.com/notebooks/data_table.ipynb>data table notebook</a>'\n",
              "          + ' to learn more about interactive tables.';\n",
              "        element.innerHTML = '';\n",
              "        dataTable['output_type'] = 'display_data';\n",
              "        await google.colab.output.renderOutput(dataTable, element);\n",
              "        const docLink = document.createElement('div');\n",
              "        docLink.innerHTML = docLinkHtml;\n",
              "        element.appendChild(docLink);\n",
              "      }\n",
              "    </script>\n",
              "  </div>\n",
              "\n",
              "\n",
              "<div id=\"df-c86d7ce3-2025-447f-8764-55ba5a9f1ec4\">\n",
              "  <button class=\"colab-df-quickchart\" onclick=\"quickchart('df-c86d7ce3-2025-447f-8764-55ba5a9f1ec4')\"\n",
              "            title=\"Suggest charts\"\n",
              "            style=\"display:none;\">\n",
              "\n",
              "<svg xmlns=\"http://www.w3.org/2000/svg\" height=\"24px\"viewBox=\"0 0 24 24\"\n",
              "     width=\"24px\">\n",
              "    <g>\n",
              "        <path d=\"M19 3H5c-1.1 0-2 .9-2 2v14c0 1.1.9 2 2 2h14c1.1 0 2-.9 2-2V5c0-1.1-.9-2-2-2zM9 17H7v-7h2v7zm4 0h-2V7h2v10zm4 0h-2v-4h2v4z\"/>\n",
              "    </g>\n",
              "</svg>\n",
              "  </button>\n",
              "\n",
              "<style>\n",
              "  .colab-df-quickchart {\n",
              "      --bg-color: #E8F0FE;\n",
              "      --fill-color: #1967D2;\n",
              "      --hover-bg-color: #E2EBFA;\n",
              "      --hover-fill-color: #174EA6;\n",
              "      --disabled-fill-color: #AAA;\n",
              "      --disabled-bg-color: #DDD;\n",
              "  }\n",
              "\n",
              "  [theme=dark] .colab-df-quickchart {\n",
              "      --bg-color: #3B4455;\n",
              "      --fill-color: #D2E3FC;\n",
              "      --hover-bg-color: #434B5C;\n",
              "      --hover-fill-color: #FFFFFF;\n",
              "      --disabled-bg-color: #3B4455;\n",
              "      --disabled-fill-color: #666;\n",
              "  }\n",
              "\n",
              "  .colab-df-quickchart {\n",
              "    background-color: var(--bg-color);\n",
              "    border: none;\n",
              "    border-radius: 50%;\n",
              "    cursor: pointer;\n",
              "    display: none;\n",
              "    fill: var(--fill-color);\n",
              "    height: 32px;\n",
              "    padding: 0;\n",
              "    width: 32px;\n",
              "  }\n",
              "\n",
              "  .colab-df-quickchart:hover {\n",
              "    background-color: var(--hover-bg-color);\n",
              "    box-shadow: 0 1px 2px rgba(60, 64, 67, 0.3), 0 1px 3px 1px rgba(60, 64, 67, 0.15);\n",
              "    fill: var(--button-hover-fill-color);\n",
              "  }\n",
              "\n",
              "  .colab-df-quickchart-complete:disabled,\n",
              "  .colab-df-quickchart-complete:disabled:hover {\n",
              "    background-color: var(--disabled-bg-color);\n",
              "    fill: var(--disabled-fill-color);\n",
              "    box-shadow: none;\n",
              "  }\n",
              "\n",
              "  .colab-df-spinner {\n",
              "    border: 2px solid var(--fill-color);\n",
              "    border-color: transparent;\n",
              "    border-bottom-color: var(--fill-color);\n",
              "    animation:\n",
              "      spin 1s steps(1) infinite;\n",
              "  }\n",
              "\n",
              "  @keyframes spin {\n",
              "    0% {\n",
              "      border-color: transparent;\n",
              "      border-bottom-color: var(--fill-color);\n",
              "      border-left-color: var(--fill-color);\n",
              "    }\n",
              "    20% {\n",
              "      border-color: transparent;\n",
              "      border-left-color: var(--fill-color);\n",
              "      border-top-color: var(--fill-color);\n",
              "    }\n",
              "    30% {\n",
              "      border-color: transparent;\n",
              "      border-left-color: var(--fill-color);\n",
              "      border-top-color: var(--fill-color);\n",
              "      border-right-color: var(--fill-color);\n",
              "    }\n",
              "    40% {\n",
              "      border-color: transparent;\n",
              "      border-right-color: var(--fill-color);\n",
              "      border-top-color: var(--fill-color);\n",
              "    }\n",
              "    60% {\n",
              "      border-color: transparent;\n",
              "      border-right-color: var(--fill-color);\n",
              "    }\n",
              "    80% {\n",
              "      border-color: transparent;\n",
              "      border-right-color: var(--fill-color);\n",
              "      border-bottom-color: var(--fill-color);\n",
              "    }\n",
              "    90% {\n",
              "      border-color: transparent;\n",
              "      border-bottom-color: var(--fill-color);\n",
              "    }\n",
              "  }\n",
              "</style>\n",
              "\n",
              "  <script>\n",
              "    async function quickchart(key) {\n",
              "      const quickchartButtonEl =\n",
              "        document.querySelector('#' + key + ' button');\n",
              "      quickchartButtonEl.disabled = true;  // To prevent multiple clicks.\n",
              "      quickchartButtonEl.classList.add('colab-df-spinner');\n",
              "      try {\n",
              "        const charts = await google.colab.kernel.invokeFunction(\n",
              "            'suggestCharts', [key], {});\n",
              "      } catch (error) {\n",
              "        console.error('Error during call to suggestCharts:', error);\n",
              "      }\n",
              "      quickchartButtonEl.classList.remove('colab-df-spinner');\n",
              "      quickchartButtonEl.classList.add('colab-df-quickchart-complete');\n",
              "    }\n",
              "    (() => {\n",
              "      let quickchartButtonEl =\n",
              "        document.querySelector('#df-c86d7ce3-2025-447f-8764-55ba5a9f1ec4 button');\n",
              "      quickchartButtonEl.style.display =\n",
              "        google.colab.kernel.accessAllowed ? 'block' : 'none';\n",
              "    })();\n",
              "  </script>\n",
              "</div>\n",
              "\n",
              "  <div id=\"id_c9a72bf5-deff-4f0c-8c5f-5531598dec4f\">\n",
              "    <style>\n",
              "      .colab-df-generate {\n",
              "        background-color: #E8F0FE;\n",
              "        border: none;\n",
              "        border-radius: 50%;\n",
              "        cursor: pointer;\n",
              "        display: none;\n",
              "        fill: #1967D2;\n",
              "        height: 32px;\n",
              "        padding: 0 0 0 0;\n",
              "        width: 32px;\n",
              "      }\n",
              "\n",
              "      .colab-df-generate:hover {\n",
              "        background-color: #E2EBFA;\n",
              "        box-shadow: 0px 1px 2px rgba(60, 64, 67, 0.3), 0px 1px 3px 1px rgba(60, 64, 67, 0.15);\n",
              "        fill: #174EA6;\n",
              "      }\n",
              "\n",
              "      [theme=dark] .colab-df-generate {\n",
              "        background-color: #3B4455;\n",
              "        fill: #D2E3FC;\n",
              "      }\n",
              "\n",
              "      [theme=dark] .colab-df-generate:hover {\n",
              "        background-color: #434B5C;\n",
              "        box-shadow: 0px 1px 3px 1px rgba(0, 0, 0, 0.15);\n",
              "        filter: drop-shadow(0px 1px 2px rgba(0, 0, 0, 0.3));\n",
              "        fill: #FFFFFF;\n",
              "      }\n",
              "    </style>\n",
              "    <button class=\"colab-df-generate\" onclick=\"generateWithVariable('db')\"\n",
              "            title=\"Generate code using this dataframe.\"\n",
              "            style=\"display:none;\">\n",
              "\n",
              "  <svg xmlns=\"http://www.w3.org/2000/svg\" height=\"24px\"viewBox=\"0 0 24 24\"\n",
              "       width=\"24px\">\n",
              "    <path d=\"M7,19H8.4L18.45,9,17,7.55,7,17.6ZM5,21V16.75L18.45,3.32a2,2,0,0,1,2.83,0l1.4,1.43a1.91,1.91,0,0,1,.58,1.4,1.91,1.91,0,0,1-.58,1.4L9.25,21ZM18.45,9,17,7.55Zm-12,3A5.31,5.31,0,0,0,4.9,8.1,5.31,5.31,0,0,0,1,6.5,5.31,5.31,0,0,0,4.9,4.9,5.31,5.31,0,0,0,6.5,1,5.31,5.31,0,0,0,8.1,4.9,5.31,5.31,0,0,0,12,6.5,5.46,5.46,0,0,0,6.5,12Z\"/>\n",
              "  </svg>\n",
              "    </button>\n",
              "    <script>\n",
              "      (() => {\n",
              "      const buttonEl =\n",
              "        document.querySelector('#id_c9a72bf5-deff-4f0c-8c5f-5531598dec4f button.colab-df-generate');\n",
              "      buttonEl.style.display =\n",
              "        google.colab.kernel.accessAllowed ? 'block' : 'none';\n",
              "\n",
              "      buttonEl.onclick = () => {\n",
              "        google.colab.notebook.generateWithVariable('db');\n",
              "      }\n",
              "      })();\n",
              "    </script>\n",
              "  </div>\n",
              "\n",
              "    </div>\n",
              "  </div>\n"
            ],
            "application/vnd.google.colaboratory.intrinsic+json": {
              "type": "dataframe",
              "variable_name": "db",
              "summary": "{\n  \"name\": \"db\",\n  \"rows\": 45211,\n  \"fields\": [\n    {\n      \"column\": \"age\",\n      \"properties\": {\n        \"dtype\": \"number\",\n        \"std\": 10,\n        \"min\": 18,\n        \"max\": 95,\n        \"num_unique_values\": 77,\n        \"samples\": [\n          35,\n          34,\n          53\n        ],\n        \"semantic_type\": \"\",\n        \"description\": \"\"\n      }\n    },\n    {\n      \"column\": \"job\",\n      \"properties\": {\n        \"dtype\": \"category\",\n        \"num_unique_values\": 12,\n        \"samples\": [\n          \"housemaid\",\n          \"unemployed\",\n          \"management\"\n        ],\n        \"semantic_type\": \"\",\n        \"description\": \"\"\n      }\n    },\n    {\n      \"column\": \"marital\",\n      \"properties\": {\n        \"dtype\": \"category\",\n        \"num_unique_values\": 3,\n        \"samples\": [\n          \"married\",\n          \"single\",\n          \"divorced\"\n        ],\n        \"semantic_type\": \"\",\n        \"description\": \"\"\n      }\n    },\n    {\n      \"column\": \"education\",\n      \"properties\": {\n        \"dtype\": \"category\",\n        \"num_unique_values\": 4,\n        \"samples\": [\n          \"secondary\",\n          \"primary\",\n          \"tertiary\"\n        ],\n        \"semantic_type\": \"\",\n        \"description\": \"\"\n      }\n    },\n    {\n      \"column\": \"default\",\n      \"properties\": {\n        \"dtype\": \"category\",\n        \"num_unique_values\": 2,\n        \"samples\": [\n          \"yes\",\n          \"no\"\n        ],\n        \"semantic_type\": \"\",\n        \"description\": \"\"\n      }\n    },\n    {\n      \"column\": \"balance\",\n      \"properties\": {\n        \"dtype\": \"number\",\n        \"std\": 3044,\n        \"min\": -8019,\n        \"max\": 102127,\n        \"num_unique_values\": 7168,\n        \"samples\": [\n          3276,\n          43\n        ],\n        \"semantic_type\": \"\",\n        \"description\": \"\"\n      }\n    },\n    {\n      \"column\": \"housing\",\n      \"properties\": {\n        \"dtype\": \"category\",\n        \"num_unique_values\": 2,\n        \"samples\": [\n          \"no\",\n          \"yes\"\n        ],\n        \"semantic_type\": \"\",\n        \"description\": \"\"\n      }\n    },\n    {\n      \"column\": \"loan\",\n      \"properties\": {\n        \"dtype\": \"category\",\n        \"num_unique_values\": 2,\n        \"samples\": [\n          \"yes\",\n          \"no\"\n        ],\n        \"semantic_type\": \"\",\n        \"description\": \"\"\n      }\n    },\n    {\n      \"column\": \"contact\",\n      \"properties\": {\n        \"dtype\": \"category\",\n        \"num_unique_values\": 3,\n        \"samples\": [\n          \"unknown\",\n          \"cellular\"\n        ],\n        \"semantic_type\": \"\",\n        \"description\": \"\"\n      }\n    },\n    {\n      \"column\": \"day\",\n      \"properties\": {\n        \"dtype\": \"number\",\n        \"std\": 8,\n        \"min\": 1,\n        \"max\": 31,\n        \"num_unique_values\": 31,\n        \"samples\": [\n          1,\n          27\n        ],\n        \"semantic_type\": \"\",\n        \"description\": \"\"\n      }\n    },\n    {\n      \"column\": \"month\",\n      \"properties\": {\n        \"dtype\": \"category\",\n        \"num_unique_values\": 12,\n        \"samples\": [\n          \"apr\",\n          \"mar\"\n        ],\n        \"semantic_type\": \"\",\n        \"description\": \"\"\n      }\n    },\n    {\n      \"column\": \"duration\",\n      \"properties\": {\n        \"dtype\": \"number\",\n        \"std\": 257,\n        \"min\": 0,\n        \"max\": 4918,\n        \"num_unique_values\": 1573,\n        \"samples\": [\n          835,\n          1135\n        ],\n        \"semantic_type\": \"\",\n        \"description\": \"\"\n      }\n    },\n    {\n      \"column\": \"campaign\",\n      \"properties\": {\n        \"dtype\": \"number\",\n        \"std\": 3,\n        \"min\": 1,\n        \"max\": 63,\n        \"num_unique_values\": 48,\n        \"samples\": [\n          41,\n          27\n        ],\n        \"semantic_type\": \"\",\n        \"description\": \"\"\n      }\n    },\n    {\n      \"column\": \"pdays\",\n      \"properties\": {\n        \"dtype\": \"number\",\n        \"std\": 100,\n        \"min\": -1,\n        \"max\": 871,\n        \"num_unique_values\": 559,\n        \"samples\": [\n          249,\n          551\n        ],\n        \"semantic_type\": \"\",\n        \"description\": \"\"\n      }\n    },\n    {\n      \"column\": \"previous\",\n      \"properties\": {\n        \"dtype\": \"number\",\n        \"std\": 2,\n        \"min\": 0,\n        \"max\": 275,\n        \"num_unique_values\": 41,\n        \"samples\": [\n          17,\n          9\n        ],\n        \"semantic_type\": \"\",\n        \"description\": \"\"\n      }\n    },\n    {\n      \"column\": \"poutcome\",\n      \"properties\": {\n        \"dtype\": \"category\",\n        \"num_unique_values\": 4,\n        \"samples\": [\n          \"failure\",\n          \"success\"\n        ],\n        \"semantic_type\": \"\",\n        \"description\": \"\"\n      }\n    },\n    {\n      \"column\": \"y\",\n      \"properties\": {\n        \"dtype\": \"category\",\n        \"num_unique_values\": 2,\n        \"samples\": [\n          \"yes\",\n          \"no\"\n        ],\n        \"semantic_type\": \"\",\n        \"description\": \"\"\n      }\n    }\n  ]\n}"
            }
          },
          "metadata": {}
        }
      ],
      "source": [
        "display(db)"
      ]
    },
    {
      "cell_type": "markdown",
      "metadata": {
        "id": "bVK8QCTL4bYD"
      },
      "source": [
        "# O DATASET"
      ]
    },
    {
      "cell_type": "markdown",
      "source": [
        "## traduzindo o dataset\n",
        "como o dataset foi elaborado em ingles, optei por traduzi-lo para facilitar a compreensão"
      ],
      "metadata": {
        "id": "uIixd6J-AeL3"
      }
    },
    {
      "cell_type": "code",
      "execution_count": 10,
      "metadata": {
        "id": "RREYgRIb4bYE"
      },
      "outputs": [],
      "source": [
        "db.columns = ['idade', 'emprego', 'estado_civil', 'educacao', 'default', 'balanco_medio_anual', 'hipoteca', 'emprestimo_pessoal', 'contato', 'dia', 'mes', 'duracao_chamada', 'qtd_contatos', 'dias_ultimo_contato', 'qtd_contatos_total', 'campanha_anterior', 'resultado']\n"
      ]
    },
    {
      "cell_type": "code",
      "execution_count": 11,
      "metadata": {
        "id": "9sPX3tzM4bYF",
        "colab": {
          "base_uri": "https://localhost:8080/",
          "height": 198
        },
        "outputId": "3d5d1dd8-1af5-4550-fc1b-f6c80cc2e25f"
      },
      "outputs": [
        {
          "output_type": "display_data",
          "data": {
            "text/plain": [
              "array(['management', 'technician', 'entrepreneur', 'blue-collar',\n",
              "       'unknown', 'retired', 'admin.', 'services', 'self-employed',\n",
              "       'unemployed', 'housemaid', 'student'], dtype=object)"
            ]
          },
          "metadata": {}
        },
        {
          "output_type": "display_data",
          "data": {
            "text/plain": [
              "array(['married', 'single', 'divorced'], dtype=object)"
            ]
          },
          "metadata": {}
        },
        {
          "output_type": "display_data",
          "data": {
            "text/plain": [
              "array(['tertiary', 'secondary', 'unknown', 'primary'], dtype=object)"
            ]
          },
          "metadata": {}
        },
        {
          "output_type": "display_data",
          "data": {
            "text/plain": [
              "array(['no', 'yes'], dtype=object)"
            ]
          },
          "metadata": {}
        },
        {
          "output_type": "display_data",
          "data": {
            "text/plain": [
              "array(['yes', 'no'], dtype=object)"
            ]
          },
          "metadata": {}
        },
        {
          "output_type": "display_data",
          "data": {
            "text/plain": [
              "array(['no', 'yes'], dtype=object)"
            ]
          },
          "metadata": {}
        },
        {
          "output_type": "display_data",
          "data": {
            "text/plain": [
              "array(['unknown', 'cellular', 'telephone'], dtype=object)"
            ]
          },
          "metadata": {}
        },
        {
          "output_type": "display_data",
          "data": {
            "text/plain": [
              "array(['unknown', 'failure', 'other', 'success'], dtype=object)"
            ]
          },
          "metadata": {}
        }
      ],
      "source": [
        "display(db['emprego'].unique(),\n",
        "db['estado_civil'].unique(),\n",
        "db['educacao'].unique(),\n",
        "db['default'].unique(),\n",
        "db['hipoteca'].unique(),\n",
        "db['emprestimo_pessoal'].unique(),\n",
        "db['contato'].unique(),\n",
        "db['campanha_anterior'].unique())\n"
      ]
    },
    {
      "cell_type": "code",
      "execution_count": 12,
      "metadata": {
        "id": "XafXiZXA4bYF",
        "colab": {
          "base_uri": "https://localhost:8080/"
        },
        "outputId": "b66c3939-b63b-4272-8cc5-2601bcffa287"
      },
      "outputs": [
        {
          "output_type": "stream",
          "name": "stdout",
          "text": [
            "\n",
            "Valores únicos em emprego:\n",
            "['gerência' 'técnico' 'empreendedor' 'operário' 'desconhecido'\n",
            " 'aposentado' 'administrativo' 'serviços' 'autônomo' 'desempregado'\n",
            " 'empregado_doméstico' 'estudante']\n",
            "\n",
            "Valores únicos em estado_civil:\n",
            "['casado' 'solteiro' 'divorciado']\n",
            "\n",
            "Valores únicos em educacao:\n",
            "['superior' 'secundário' 'desconhecido' 'primário']\n",
            "\n",
            "Valores únicos em default:\n",
            "['não' 'sim']\n",
            "\n",
            "Valores únicos em hipoteca:\n",
            "['sim' 'não']\n",
            "\n",
            "Valores únicos em emprestimo_pessoal:\n",
            "['não' 'sim']\n",
            "\n",
            "Valores únicos em contato:\n",
            "['desconhecido' 'celular' 'telefone']\n",
            "\n",
            "Valores únicos em campanha_anterior:\n",
            "['desconhecido' 'falha' 'outro' 'sucesso']\n"
          ]
        }
      ],
      "source": [
        "# traducao dos empregos\n",
        "traducao_empregos = {\n",
        "    'management': 'gerência',\n",
        "    'technician': 'técnico',\n",
        "    'entrepreneur': 'empreendedor',\n",
        "    'blue-collar': 'operário',\n",
        "    'unknown': 'desconhecido',\n",
        "    'retired': 'aposentado',\n",
        "    'admin.': 'administrativo',\n",
        "    'services': 'serviços',\n",
        "    'self-employed': 'autônomo',\n",
        "    'unemployed': 'desempregado',\n",
        "    'housemaid': 'empregado_doméstico',\n",
        "    'student': 'estudante'\n",
        "}\n",
        "\n",
        "# Tradução do estado civil\n",
        "traducao_estado_civil = {\n",
        "    'married': 'casado',\n",
        "    'single': 'solteiro',\n",
        "    'divorced': 'divorciado',\n",
        "    'unknown': 'desconhecido'\n",
        "}\n",
        "\n",
        "# Tradução da educação\n",
        "traducao_educacao = {\n",
        "    'tertiary': 'superior',\n",
        "    'secondary': 'secundário',\n",
        "    'unknown': 'desconhecido',\n",
        "    'primary': 'primário'\n",
        "}\n",
        "\n",
        "# Tradução default\n",
        "traducao_default = {\n",
        "    'yes': 'sim',\n",
        "    'no': 'não',\n",
        "    'unknown': 'desconhecido'\n",
        "}\n",
        "\n",
        "# Tradução hipoteca e empréstimo pessoal\n",
        "traducao_sim_nao = {\n",
        "    'yes': 'sim',\n",
        "    'no': 'não'\n",
        "}\n",
        "\n",
        "# Tradução tipo de contato\n",
        "traducao_contato = {\n",
        "    'unknown': 'desconhecido',\n",
        "    'cellular': 'celular',\n",
        "    'telephone': 'telefone'\n",
        "}\n",
        "\n",
        "# Tradução resultado da campanha anterior\n",
        "traducao_campanha = {\n",
        "    'unknown': 'desconhecido',\n",
        "    'failure': 'falha',\n",
        "    'other': 'outro',\n",
        "    'success': 'sucesso'\n",
        "}\n",
        "# traduzir o resultado\n",
        "traducao_resultado = {\n",
        "    'yes': 'sim',\n",
        "    'no': 'não'\n",
        "}\n",
        "\n",
        "# Aplicar todas as traduções\n",
        "db['emprego'] = db['emprego'].map(traducao_empregos)\n",
        "db['estado_civil'] = db['estado_civil'].map(traducao_estado_civil)\n",
        "db['educacao'] = db['educacao'].map(traducao_educacao)\n",
        "db['default'] = db['default'].map(traducao_default)\n",
        "db['hipoteca'] = db['hipoteca'].map(traducao_sim_nao)\n",
        "db['emprestimo_pessoal'] = db['emprestimo_pessoal'].map(traducao_sim_nao)\n",
        "db['contato'] = db['contato'].map(traducao_contato)\n",
        "db['campanha_anterior'] = db['campanha_anterior'].map(traducao_campanha)\n",
        "db['resultado'] = db['resultado'].map(traducao_resultado)\n",
        "\n",
        "# Verificar o resultado\n",
        "for coluna in ['emprego', 'estado_civil', 'educacao', 'default', 'hipoteca', 'emprestimo_pessoal', 'contato', 'campanha_anterior']:\n",
        "    print(f\"\\nValores únicos em {coluna}:\")\n",
        "    print(db[coluna].unique())\n"
      ]
    },
    {
      "cell_type": "markdown",
      "source": [
        "# DIVIDINDO OS DADOS\n"
      ],
      "metadata": {
        "id": "A6ISwtCKBTW4"
      }
    },
    {
      "cell_type": "markdown",
      "source": [
        "## ATRIBUTOS(X)\n",
        "### ESTE SAO OS DADOS DE ENTRADA COM OS QUAIS TRABALHEMOS PARA FAZER AS PREDICOES\n",
        "1. idade: Idade do cliente (numérico)\n",
        "2. emprego: Ocupação do cliente (gerência, técnico, empreendedor, operário, desconhecido, aposentado, administrativo, serviços, autônomo, desempregado, empregado_doméstico, estudante)\n",
        "3. estado_civil: Estado civil do cliente (casado, solteiro, divorciado, desconhecido)\n",
        "4. educacao: Nível de educação (superior, secundário, primário, desconhecido)\n",
        "5. default: Cliente tem crédito em default (sim, não, desconhecido)\n",
        "6. balanco_medio_anual: Saldo médio anual em euros (numérico)\n",
        "7. hipoteca: Cliente possui empréstimo habitacional (sim, não)\n",
        "8. emprestimo_pessoal: Cliente possui empréstimo pessoal (sim, não)\n",
        "9. contato: Tipo de contato realizado (celular, telefone, desconhecido)\n",
        "10. dia: Último dia de contato do mês (numérico: 1-31)\n",
        "11. mes: Último mês de contato do ano (categórico: jan-dez)\n",
        "12. duracao_chamada: Duração do último contato em segundos (numérico)\n",
        "13. qtd_contatos: Número de contatos realizados durante esta campanha (numérico)\n",
        "14. dias_ultimo_contato: Número de dias desde o último contato (numérico)\n",
        "15. qtd_contatos_total: Número de contatos realizados antes desta campanha (numérico)\n",
        "16. campanha_anterior: Resultado da campanha anterior (sucesso, falha, outro, desconhecido)"
      ],
      "metadata": {
        "id": "TtqV_O0O4_IV"
      }
    },
    {
      "cell_type": "markdown",
      "source": [
        "## ALVO(Y)\n",
        "17. resultado: Resultado da campanha atual - variável alvo (sim, não)"
      ],
      "metadata": {
        "id": "6uAqcNM6BpF6"
      }
    },
    {
      "cell_type": "markdown",
      "source": [
        "# DADOS ESTATISTICOS DOS PARAMETROS NUMERICOS\n",
        "uma checagem rapida procurando possiveis erros no dataset\n"
      ],
      "metadata": {
        "id": "XbPyzQ_5C0C1"
      }
    },
    {
      "cell_type": "code",
      "execution_count": 13,
      "metadata": {
        "id": "3-zJJgfO4bYG",
        "colab": {
          "base_uri": "https://localhost:8080/",
          "height": 899
        },
        "outputId": "c1304cbc-a036-4820-ddcf-a3e297b6f251"
      },
      "outputs": [
        {
          "output_type": "display_data",
          "data": {
            "text/plain": [
              "idade                  0\n",
              "emprego                0\n",
              "estado_civil           0\n",
              "educacao               0\n",
              "default                0\n",
              "balanco_medio_anual    0\n",
              "hipoteca               0\n",
              "emprestimo_pessoal     0\n",
              "contato                0\n",
              "dia                    0\n",
              "mes                    0\n",
              "duracao_chamada        0\n",
              "qtd_contatos           0\n",
              "dias_ultimo_contato    0\n",
              "qtd_contatos_total     0\n",
              "campanha_anterior      0\n",
              "resultado              0\n",
              "dtype: int64"
            ],
            "text/html": [
              "<div>\n",
              "<style scoped>\n",
              "    .dataframe tbody tr th:only-of-type {\n",
              "        vertical-align: middle;\n",
              "    }\n",
              "\n",
              "    .dataframe tbody tr th {\n",
              "        vertical-align: top;\n",
              "    }\n",
              "\n",
              "    .dataframe thead th {\n",
              "        text-align: right;\n",
              "    }\n",
              "</style>\n",
              "<table border=\"1\" class=\"dataframe\">\n",
              "  <thead>\n",
              "    <tr style=\"text-align: right;\">\n",
              "      <th></th>\n",
              "      <th>0</th>\n",
              "    </tr>\n",
              "  </thead>\n",
              "  <tbody>\n",
              "    <tr>\n",
              "      <th>idade</th>\n",
              "      <td>0</td>\n",
              "    </tr>\n",
              "    <tr>\n",
              "      <th>emprego</th>\n",
              "      <td>0</td>\n",
              "    </tr>\n",
              "    <tr>\n",
              "      <th>estado_civil</th>\n",
              "      <td>0</td>\n",
              "    </tr>\n",
              "    <tr>\n",
              "      <th>educacao</th>\n",
              "      <td>0</td>\n",
              "    </tr>\n",
              "    <tr>\n",
              "      <th>default</th>\n",
              "      <td>0</td>\n",
              "    </tr>\n",
              "    <tr>\n",
              "      <th>balanco_medio_anual</th>\n",
              "      <td>0</td>\n",
              "    </tr>\n",
              "    <tr>\n",
              "      <th>hipoteca</th>\n",
              "      <td>0</td>\n",
              "    </tr>\n",
              "    <tr>\n",
              "      <th>emprestimo_pessoal</th>\n",
              "      <td>0</td>\n",
              "    </tr>\n",
              "    <tr>\n",
              "      <th>contato</th>\n",
              "      <td>0</td>\n",
              "    </tr>\n",
              "    <tr>\n",
              "      <th>dia</th>\n",
              "      <td>0</td>\n",
              "    </tr>\n",
              "    <tr>\n",
              "      <th>mes</th>\n",
              "      <td>0</td>\n",
              "    </tr>\n",
              "    <tr>\n",
              "      <th>duracao_chamada</th>\n",
              "      <td>0</td>\n",
              "    </tr>\n",
              "    <tr>\n",
              "      <th>qtd_contatos</th>\n",
              "      <td>0</td>\n",
              "    </tr>\n",
              "    <tr>\n",
              "      <th>dias_ultimo_contato</th>\n",
              "      <td>0</td>\n",
              "    </tr>\n",
              "    <tr>\n",
              "      <th>qtd_contatos_total</th>\n",
              "      <td>0</td>\n",
              "    </tr>\n",
              "    <tr>\n",
              "      <th>campanha_anterior</th>\n",
              "      <td>0</td>\n",
              "    </tr>\n",
              "    <tr>\n",
              "      <th>resultado</th>\n",
              "      <td>0</td>\n",
              "    </tr>\n",
              "  </tbody>\n",
              "</table>\n",
              "</div><br><label><b>dtype:</b> int64</label>"
            ]
          },
          "metadata": {}
        },
        {
          "output_type": "display_data",
          "data": {
            "text/plain": [
              "              idade  balanco_medio_anual           dia  duracao_chamada  \\\n",
              "count  45211.000000         45211.000000  45211.000000     45211.000000   \n",
              "mean      40.936210          1362.272058     15.806419       258.163080   \n",
              "std       10.618762          3044.765829      8.322476       257.527812   \n",
              "min       18.000000         -8019.000000      1.000000         0.000000   \n",
              "25%       33.000000            72.000000      8.000000       103.000000   \n",
              "50%       39.000000           448.000000     16.000000       180.000000   \n",
              "75%       48.000000          1428.000000     21.000000       319.000000   \n",
              "max       95.000000        102127.000000     31.000000      4918.000000   \n",
              "\n",
              "       qtd_contatos  dias_ultimo_contato  qtd_contatos_total  \n",
              "count  45211.000000         45211.000000        45211.000000  \n",
              "mean       2.763841            40.197828            0.580323  \n",
              "std        3.098021           100.128746            2.303441  \n",
              "min        1.000000            -1.000000            0.000000  \n",
              "25%        1.000000            -1.000000            0.000000  \n",
              "50%        2.000000            -1.000000            0.000000  \n",
              "75%        3.000000            -1.000000            0.000000  \n",
              "max       63.000000           871.000000          275.000000  "
            ],
            "text/html": [
              "\n",
              "  <div id=\"df-163ad14d-9451-4fc6-b3a2-8e0d0a4d0f0e\" class=\"colab-df-container\">\n",
              "    <div>\n",
              "<style scoped>\n",
              "    .dataframe tbody tr th:only-of-type {\n",
              "        vertical-align: middle;\n",
              "    }\n",
              "\n",
              "    .dataframe tbody tr th {\n",
              "        vertical-align: top;\n",
              "    }\n",
              "\n",
              "    .dataframe thead th {\n",
              "        text-align: right;\n",
              "    }\n",
              "</style>\n",
              "<table border=\"1\" class=\"dataframe\">\n",
              "  <thead>\n",
              "    <tr style=\"text-align: right;\">\n",
              "      <th></th>\n",
              "      <th>idade</th>\n",
              "      <th>balanco_medio_anual</th>\n",
              "      <th>dia</th>\n",
              "      <th>duracao_chamada</th>\n",
              "      <th>qtd_contatos</th>\n",
              "      <th>dias_ultimo_contato</th>\n",
              "      <th>qtd_contatos_total</th>\n",
              "    </tr>\n",
              "  </thead>\n",
              "  <tbody>\n",
              "    <tr>\n",
              "      <th>count</th>\n",
              "      <td>45211.000000</td>\n",
              "      <td>45211.000000</td>\n",
              "      <td>45211.000000</td>\n",
              "      <td>45211.000000</td>\n",
              "      <td>45211.000000</td>\n",
              "      <td>45211.000000</td>\n",
              "      <td>45211.000000</td>\n",
              "    </tr>\n",
              "    <tr>\n",
              "      <th>mean</th>\n",
              "      <td>40.936210</td>\n",
              "      <td>1362.272058</td>\n",
              "      <td>15.806419</td>\n",
              "      <td>258.163080</td>\n",
              "      <td>2.763841</td>\n",
              "      <td>40.197828</td>\n",
              "      <td>0.580323</td>\n",
              "    </tr>\n",
              "    <tr>\n",
              "      <th>std</th>\n",
              "      <td>10.618762</td>\n",
              "      <td>3044.765829</td>\n",
              "      <td>8.322476</td>\n",
              "      <td>257.527812</td>\n",
              "      <td>3.098021</td>\n",
              "      <td>100.128746</td>\n",
              "      <td>2.303441</td>\n",
              "    </tr>\n",
              "    <tr>\n",
              "      <th>min</th>\n",
              "      <td>18.000000</td>\n",
              "      <td>-8019.000000</td>\n",
              "      <td>1.000000</td>\n",
              "      <td>0.000000</td>\n",
              "      <td>1.000000</td>\n",
              "      <td>-1.000000</td>\n",
              "      <td>0.000000</td>\n",
              "    </tr>\n",
              "    <tr>\n",
              "      <th>25%</th>\n",
              "      <td>33.000000</td>\n",
              "      <td>72.000000</td>\n",
              "      <td>8.000000</td>\n",
              "      <td>103.000000</td>\n",
              "      <td>1.000000</td>\n",
              "      <td>-1.000000</td>\n",
              "      <td>0.000000</td>\n",
              "    </tr>\n",
              "    <tr>\n",
              "      <th>50%</th>\n",
              "      <td>39.000000</td>\n",
              "      <td>448.000000</td>\n",
              "      <td>16.000000</td>\n",
              "      <td>180.000000</td>\n",
              "      <td>2.000000</td>\n",
              "      <td>-1.000000</td>\n",
              "      <td>0.000000</td>\n",
              "    </tr>\n",
              "    <tr>\n",
              "      <th>75%</th>\n",
              "      <td>48.000000</td>\n",
              "      <td>1428.000000</td>\n",
              "      <td>21.000000</td>\n",
              "      <td>319.000000</td>\n",
              "      <td>3.000000</td>\n",
              "      <td>-1.000000</td>\n",
              "      <td>0.000000</td>\n",
              "    </tr>\n",
              "    <tr>\n",
              "      <th>max</th>\n",
              "      <td>95.000000</td>\n",
              "      <td>102127.000000</td>\n",
              "      <td>31.000000</td>\n",
              "      <td>4918.000000</td>\n",
              "      <td>63.000000</td>\n",
              "      <td>871.000000</td>\n",
              "      <td>275.000000</td>\n",
              "    </tr>\n",
              "  </tbody>\n",
              "</table>\n",
              "</div>\n",
              "    <div class=\"colab-df-buttons\">\n",
              "\n",
              "  <div class=\"colab-df-container\">\n",
              "    <button class=\"colab-df-convert\" onclick=\"convertToInteractive('df-163ad14d-9451-4fc6-b3a2-8e0d0a4d0f0e')\"\n",
              "            title=\"Convert this dataframe to an interactive table.\"\n",
              "            style=\"display:none;\">\n",
              "\n",
              "  <svg xmlns=\"http://www.w3.org/2000/svg\" height=\"24px\" viewBox=\"0 -960 960 960\">\n",
              "    <path d=\"M120-120v-720h720v720H120Zm60-500h600v-160H180v160Zm220 220h160v-160H400v160Zm0 220h160v-160H400v160ZM180-400h160v-160H180v160Zm440 0h160v-160H620v160ZM180-180h160v-160H180v160Zm440 0h160v-160H620v160Z\"/>\n",
              "  </svg>\n",
              "    </button>\n",
              "\n",
              "  <style>\n",
              "    .colab-df-container {\n",
              "      display:flex;\n",
              "      gap: 12px;\n",
              "    }\n",
              "\n",
              "    .colab-df-convert {\n",
              "      background-color: #E8F0FE;\n",
              "      border: none;\n",
              "      border-radius: 50%;\n",
              "      cursor: pointer;\n",
              "      display: none;\n",
              "      fill: #1967D2;\n",
              "      height: 32px;\n",
              "      padding: 0 0 0 0;\n",
              "      width: 32px;\n",
              "    }\n",
              "\n",
              "    .colab-df-convert:hover {\n",
              "      background-color: #E2EBFA;\n",
              "      box-shadow: 0px 1px 2px rgba(60, 64, 67, 0.3), 0px 1px 3px 1px rgba(60, 64, 67, 0.15);\n",
              "      fill: #174EA6;\n",
              "    }\n",
              "\n",
              "    .colab-df-buttons div {\n",
              "      margin-bottom: 4px;\n",
              "    }\n",
              "\n",
              "    [theme=dark] .colab-df-convert {\n",
              "      background-color: #3B4455;\n",
              "      fill: #D2E3FC;\n",
              "    }\n",
              "\n",
              "    [theme=dark] .colab-df-convert:hover {\n",
              "      background-color: #434B5C;\n",
              "      box-shadow: 0px 1px 3px 1px rgba(0, 0, 0, 0.15);\n",
              "      filter: drop-shadow(0px 1px 2px rgba(0, 0, 0, 0.3));\n",
              "      fill: #FFFFFF;\n",
              "    }\n",
              "  </style>\n",
              "\n",
              "    <script>\n",
              "      const buttonEl =\n",
              "        document.querySelector('#df-163ad14d-9451-4fc6-b3a2-8e0d0a4d0f0e button.colab-df-convert');\n",
              "      buttonEl.style.display =\n",
              "        google.colab.kernel.accessAllowed ? 'block' : 'none';\n",
              "\n",
              "      async function convertToInteractive(key) {\n",
              "        const element = document.querySelector('#df-163ad14d-9451-4fc6-b3a2-8e0d0a4d0f0e');\n",
              "        const dataTable =\n",
              "          await google.colab.kernel.invokeFunction('convertToInteractive',\n",
              "                                                    [key], {});\n",
              "        if (!dataTable) return;\n",
              "\n",
              "        const docLinkHtml = 'Like what you see? Visit the ' +\n",
              "          '<a target=\"_blank\" href=https://colab.research.google.com/notebooks/data_table.ipynb>data table notebook</a>'\n",
              "          + ' to learn more about interactive tables.';\n",
              "        element.innerHTML = '';\n",
              "        dataTable['output_type'] = 'display_data';\n",
              "        await google.colab.output.renderOutput(dataTable, element);\n",
              "        const docLink = document.createElement('div');\n",
              "        docLink.innerHTML = docLinkHtml;\n",
              "        element.appendChild(docLink);\n",
              "      }\n",
              "    </script>\n",
              "  </div>\n",
              "\n",
              "\n",
              "<div id=\"df-f330ab1d-ca13-4387-9e2f-620fb5551f37\">\n",
              "  <button class=\"colab-df-quickchart\" onclick=\"quickchart('df-f330ab1d-ca13-4387-9e2f-620fb5551f37')\"\n",
              "            title=\"Suggest charts\"\n",
              "            style=\"display:none;\">\n",
              "\n",
              "<svg xmlns=\"http://www.w3.org/2000/svg\" height=\"24px\"viewBox=\"0 0 24 24\"\n",
              "     width=\"24px\">\n",
              "    <g>\n",
              "        <path d=\"M19 3H5c-1.1 0-2 .9-2 2v14c0 1.1.9 2 2 2h14c1.1 0 2-.9 2-2V5c0-1.1-.9-2-2-2zM9 17H7v-7h2v7zm4 0h-2V7h2v10zm4 0h-2v-4h2v4z\"/>\n",
              "    </g>\n",
              "</svg>\n",
              "  </button>\n",
              "\n",
              "<style>\n",
              "  .colab-df-quickchart {\n",
              "      --bg-color: #E8F0FE;\n",
              "      --fill-color: #1967D2;\n",
              "      --hover-bg-color: #E2EBFA;\n",
              "      --hover-fill-color: #174EA6;\n",
              "      --disabled-fill-color: #AAA;\n",
              "      --disabled-bg-color: #DDD;\n",
              "  }\n",
              "\n",
              "  [theme=dark] .colab-df-quickchart {\n",
              "      --bg-color: #3B4455;\n",
              "      --fill-color: #D2E3FC;\n",
              "      --hover-bg-color: #434B5C;\n",
              "      --hover-fill-color: #FFFFFF;\n",
              "      --disabled-bg-color: #3B4455;\n",
              "      --disabled-fill-color: #666;\n",
              "  }\n",
              "\n",
              "  .colab-df-quickchart {\n",
              "    background-color: var(--bg-color);\n",
              "    border: none;\n",
              "    border-radius: 50%;\n",
              "    cursor: pointer;\n",
              "    display: none;\n",
              "    fill: var(--fill-color);\n",
              "    height: 32px;\n",
              "    padding: 0;\n",
              "    width: 32px;\n",
              "  }\n",
              "\n",
              "  .colab-df-quickchart:hover {\n",
              "    background-color: var(--hover-bg-color);\n",
              "    box-shadow: 0 1px 2px rgba(60, 64, 67, 0.3), 0 1px 3px 1px rgba(60, 64, 67, 0.15);\n",
              "    fill: var(--button-hover-fill-color);\n",
              "  }\n",
              "\n",
              "  .colab-df-quickchart-complete:disabled,\n",
              "  .colab-df-quickchart-complete:disabled:hover {\n",
              "    background-color: var(--disabled-bg-color);\n",
              "    fill: var(--disabled-fill-color);\n",
              "    box-shadow: none;\n",
              "  }\n",
              "\n",
              "  .colab-df-spinner {\n",
              "    border: 2px solid var(--fill-color);\n",
              "    border-color: transparent;\n",
              "    border-bottom-color: var(--fill-color);\n",
              "    animation:\n",
              "      spin 1s steps(1) infinite;\n",
              "  }\n",
              "\n",
              "  @keyframes spin {\n",
              "    0% {\n",
              "      border-color: transparent;\n",
              "      border-bottom-color: var(--fill-color);\n",
              "      border-left-color: var(--fill-color);\n",
              "    }\n",
              "    20% {\n",
              "      border-color: transparent;\n",
              "      border-left-color: var(--fill-color);\n",
              "      border-top-color: var(--fill-color);\n",
              "    }\n",
              "    30% {\n",
              "      border-color: transparent;\n",
              "      border-left-color: var(--fill-color);\n",
              "      border-top-color: var(--fill-color);\n",
              "      border-right-color: var(--fill-color);\n",
              "    }\n",
              "    40% {\n",
              "      border-color: transparent;\n",
              "      border-right-color: var(--fill-color);\n",
              "      border-top-color: var(--fill-color);\n",
              "    }\n",
              "    60% {\n",
              "      border-color: transparent;\n",
              "      border-right-color: var(--fill-color);\n",
              "    }\n",
              "    80% {\n",
              "      border-color: transparent;\n",
              "      border-right-color: var(--fill-color);\n",
              "      border-bottom-color: var(--fill-color);\n",
              "    }\n",
              "    90% {\n",
              "      border-color: transparent;\n",
              "      border-bottom-color: var(--fill-color);\n",
              "    }\n",
              "  }\n",
              "</style>\n",
              "\n",
              "  <script>\n",
              "    async function quickchart(key) {\n",
              "      const quickchartButtonEl =\n",
              "        document.querySelector('#' + key + ' button');\n",
              "      quickchartButtonEl.disabled = true;  // To prevent multiple clicks.\n",
              "      quickchartButtonEl.classList.add('colab-df-spinner');\n",
              "      try {\n",
              "        const charts = await google.colab.kernel.invokeFunction(\n",
              "            'suggestCharts', [key], {});\n",
              "      } catch (error) {\n",
              "        console.error('Error during call to suggestCharts:', error);\n",
              "      }\n",
              "      quickchartButtonEl.classList.remove('colab-df-spinner');\n",
              "      quickchartButtonEl.classList.add('colab-df-quickchart-complete');\n",
              "    }\n",
              "    (() => {\n",
              "      let quickchartButtonEl =\n",
              "        document.querySelector('#df-f330ab1d-ca13-4387-9e2f-620fb5551f37 button');\n",
              "      quickchartButtonEl.style.display =\n",
              "        google.colab.kernel.accessAllowed ? 'block' : 'none';\n",
              "    })();\n",
              "  </script>\n",
              "</div>\n",
              "\n",
              "    </div>\n",
              "  </div>\n"
            ],
            "application/vnd.google.colaboratory.intrinsic+json": {
              "type": "dataframe",
              "summary": "{\n  \"name\": \"display(db\",\n  \"rows\": 8,\n  \"fields\": [\n    {\n      \"column\": \"idade\",\n      \"properties\": {\n        \"dtype\": \"number\",\n        \"std\": 15970.150201692022,\n        \"min\": 10.618762040975431,\n        \"max\": 45211.0,\n        \"num_unique_values\": 8,\n        \"samples\": [\n          40.93621021432837,\n          39.0,\n          45211.0\n        ],\n        \"semantic_type\": \"\",\n        \"description\": \"\"\n      }\n    },\n    {\n      \"column\": \"balanco_medio_anual\",\n      \"properties\": {\n        \"dtype\": \"number\",\n        \"std\": 37605.126555585215,\n        \"min\": -8019.0,\n        \"max\": 102127.0,\n        \"num_unique_values\": 8,\n        \"samples\": [\n          1362.2720576850766,\n          448.0,\n          45211.0\n        ],\n        \"semantic_type\": \"\",\n        \"description\": \"\"\n      }\n    },\n    {\n      \"column\": \"dia\",\n      \"properties\": {\n        \"dtype\": \"number\",\n        \"std\": 15979.397159121005,\n        \"min\": 1.0,\n        \"max\": 45211.0,\n        \"num_unique_values\": 8,\n        \"samples\": [\n          15.80641879188693,\n          16.0,\n          45211.0\n        ],\n        \"semantic_type\": \"\",\n        \"description\": \"\"\n      }\n    },\n    {\n      \"column\": \"duracao_chamada\",\n      \"properties\": {\n        \"dtype\": \"number\",\n        \"std\": 15767.149700866448,\n        \"min\": 0.0,\n        \"max\": 45211.0,\n        \"num_unique_values\": 8,\n        \"samples\": [\n          258.1630797814691,\n          180.0,\n          45211.0\n        ],\n        \"semantic_type\": \"\",\n        \"description\": \"\"\n      }\n    },\n    {\n      \"column\": \"qtd_contatos\",\n      \"properties\": {\n        \"dtype\": \"number\",\n        \"std\": 15980.684949017386,\n        \"min\": 1.0,\n        \"max\": 45211.0,\n        \"num_unique_values\": 7,\n        \"samples\": [\n          45211.0,\n          2.763840658246887,\n          3.0\n        ],\n        \"semantic_type\": \"\",\n        \"description\": \"\"\n      }\n    },\n    {\n      \"column\": \"dias_ultimo_contato\",\n      \"properties\": {\n        \"dtype\": \"number\",\n        \"std\": 15936.427694880493,\n        \"min\": -1.0,\n        \"max\": 45211.0,\n        \"num_unique_values\": 5,\n        \"samples\": [\n          40.19782796222158,\n          871.0,\n          100.1287459906047\n        ],\n        \"semantic_type\": \"\",\n        \"description\": \"\"\n      }\n    },\n    {\n      \"column\": \"qtd_contatos_total\",\n      \"properties\": {\n        \"dtype\": \"number\",\n        \"std\": 15970.756012949014,\n        \"min\": 0.0,\n        \"max\": 45211.0,\n        \"num_unique_values\": 5,\n        \"samples\": [\n          0.5803233726305546,\n          275.0,\n          2.3034410449314233\n        ],\n        \"semantic_type\": \"\",\n        \"description\": \"\"\n      }\n    }\n  ]\n}"
            }
          },
          "metadata": {}
        }
      ],
      "source": [
        "display(db.isnull().sum())\n",
        "display(db.select_dtypes(include=['int64', 'float64']).describe())"
      ]
    },
    {
      "cell_type": "markdown",
      "metadata": {
        "id": "honuKDYD4bYH"
      },
      "source": [
        "# <span style=\"color: red\">INICIO DO PROJETO</span>"
      ]
    },
    {
      "cell_type": "markdown",
      "metadata": {
        "id": "h572CGWk4bYH"
      },
      "source": [
        "## Preparação dos dados"
      ]
    },
    {
      "cell_type": "markdown",
      "source": [
        "A biblioteca sklearn trabalha apenas com parametros numericos, portanto e feita uma conversao dos valores para um numeros correspondentes.\n"
      ],
      "metadata": {
        "id": "GTbvtz0QHS9R"
      }
    },
    {
      "cell_type": "code",
      "execution_count": 14,
      "metadata": {
        "id": "0UkbNR-j4bYH",
        "colab": {
          "base_uri": "https://localhost:8080/"
        },
        "outputId": "57fa6d45-c07a-4981-b5ee-a07cd2ce3cc3"
      },
      "outputs": [
        {
          "output_type": "stream",
          "name": "stdout",
          "text": [
            "LEGENDAS DAS CONVERSÕES:\n",
            "\n",
            "EMPREGO:\n",
            "administrativo: 0\n",
            "aposentado: 1\n",
            "autônomo: 2\n",
            "desconhecido: 3\n",
            "desempregado: 4\n",
            "empreendedor: 5\n",
            "empregado_doméstico: 6\n",
            "estudante: 7\n",
            "gerência: 8\n",
            "operário: 9\n",
            "serviços: 10\n",
            "técnico: 11\n",
            "\n",
            "ESTADO_CIVIL:\n",
            "casado: 0\n",
            "divorciado: 1\n",
            "solteiro: 2\n",
            "\n",
            "EDUCACAO:\n",
            "desconhecido: 0\n",
            "primário: 1\n",
            "secundário: 2\n",
            "superior: 3\n",
            "\n",
            "DEFAULT:\n",
            "não: 0\n",
            "sim: 1\n",
            "\n",
            "HIPOTECA:\n",
            "não: 0\n",
            "sim: 1\n",
            "\n",
            "EMPRESTIMO_PESSOAL:\n",
            "não: 0\n",
            "sim: 1\n",
            "\n",
            "CONTATO:\n",
            "celular: 0\n",
            "desconhecido: 1\n",
            "telefone: 2\n",
            "\n",
            "MES:\n",
            "apr: 0\n",
            "aug: 1\n",
            "dec: 2\n",
            "feb: 3\n",
            "jan: 4\n",
            "jul: 5\n",
            "jun: 6\n",
            "mar: 7\n",
            "may: 8\n",
            "nov: 9\n",
            "oct: 10\n",
            "sep: 11\n",
            "\n",
            "CAMPANHA_ANTERIOR:\n",
            "desconhecido: 0\n",
            "falha: 1\n",
            "outro: 2\n",
            "sucesso: 3\n",
            "\n",
            "RESULTADO:\n",
            "não: 0\n",
            "sim: 1\n"
          ]
        }
      ],
      "source": [
        "# Criar dicionário para armazenar os encoders e legendas\n",
        "encoders = {}\n",
        "legendas = {}\n",
        "\n",
        "# Identificar colunas categóricas\n",
        "colunas_categoricas = ['emprego', 'estado_civil', 'educacao', 'default',\n",
        "                      'hipoteca', 'emprestimo_pessoal', 'contato', 'mes',\n",
        "                      'campanha_anterior', 'resultado']\n",
        "\n",
        "# Converter cada coluna categórica e salvar a legenda\n",
        "for coluna in colunas_categoricas:\n",
        "    # Criar e ajustar o encoder\n",
        "    le = LabelEncoder()\n",
        "    db[coluna] = le.fit_transform(db[coluna])\n",
        "\n",
        "    # Salvar o encoder e criar legenda\n",
        "    encoders[coluna] = le\n",
        "    legendas[coluna] = dict(zip(le.classes_, le.transform(le.classes_)))\n",
        "\n",
        "# Imprimir as legendas para referência\n",
        "print(\"LEGENDAS DAS CONVERSÕES:\")\n",
        "for coluna, legenda in legendas.items():\n",
        "    print(f\"\\n{coluna.upper()}:\")\n",
        "    for categoria, numero in legenda.items():\n",
        "        print(f\"{categoria}: {numero}\")\n"
      ]
    },
    {
      "cell_type": "markdown",
      "source": [
        "# TREINAMENTO DO MODELO\n",
        "\n"
      ],
      "metadata": {
        "id": "GW6jizdXH1Ru"
      }
    },
    {
      "cell_type": "markdown",
      "source": [
        "primeiramente separamos os valores em valores de treino, e valores de teste,\n",
        "particionamos os dados em 10 folds para validacao cruzada e definimos a acuracia como metrica de avaliacao\n"
      ],
      "metadata": {
        "id": "sgQoQrtSIL4D"
      }
    },
    {
      "cell_type": "code",
      "execution_count": 15,
      "metadata": {
        "id": "Lu6HzR4C4bYI"
      },
      "outputs": [],
      "source": [
        "# Separação em bases de treino e teste (holdout)\n",
        "array = db.values\n",
        "X = array[:,0:16] # atributos\n",
        "y = array[:,16] # classe (target)\n",
        "\n",
        "X_train, X_test, y_train, y_test = train_test_split(X, y, test_size=0.20, random_state=7) # faz a divisão\n",
        "\n",
        "# Criando os folds para a validação cruzada\n",
        "scoring = 'accuracy' # métrica de avaliação\n",
        "num_particoes = 10 # número de folds da validação cruzada\n",
        "kfold = KFold(n_splits=num_particoes, shuffle=True, random_state=7) # faz o particionamento em 10 folds"
      ]
    },
    {
      "cell_type": "code",
      "execution_count": 16,
      "metadata": {
        "id": "1A_ksik74bYI"
      },
      "outputs": [],
      "source": [
        "# Definindo uma seed global para esta célula de código\n",
        "np.random.seed(7)\n",
        "\n",
        "# Listas para armazenar os modelos, os resultados e os nomes dos modelos\n",
        "models = []\n",
        "results = []\n",
        "names = []\n",
        "\n",
        "# Preparando os modelos e adicionando-os em uma lista\n",
        "models.append(('KNN', KNeighborsClassifier()))\n",
        "models.append(('CART', DecisionTreeClassifier()))\n",
        "models.append(('NB', GaussianNB()))\n",
        "models.append(('SVM', SVC()))\n",
        "models.append(('LR', LogisticRegression(max_iter=200)))"
      ]
    },
    {
      "cell_type": "code",
      "execution_count": 17,
      "metadata": {
        "id": "DSH-5xtU4bYI",
        "colab": {
          "base_uri": "https://localhost:8080/"
        },
        "outputId": "6f019745-4b5e-4dc1-fd57-651ee7eb8894"
      },
      "outputs": [
        {
          "output_type": "stream",
          "name": "stdout",
          "text": [
            "KNN: 0.883294 (0.004707)\n",
            "CART: 0.871599 (0.005050)\n",
            "NB: 0.853765 (0.007359)\n",
            "SVM: 0.881636 (0.002997)\n",
            "LR: 0.890041 (0.003034)\n"
          ]
        }
      ],
      "source": [
        "# Avaliando um modelo por vez\n",
        "for name, model in models:\n",
        "  cv_results = cross_val_score(model, X_train, y_train, cv=kfold, scoring='accuracy')\n",
        "  results.append(cv_results)\n",
        "  names.append(name)\n",
        "  msg = \"%s: %f (%f)\" % (name, cv_results.mean(), cv_results.std()) # média e desvio padrão dos 10 resultados da validação cruzada\n",
        "  print(msg)"
      ]
    },
    {
      "cell_type": "markdown",
      "source": [
        "## comparacao dos modelos\n",
        "aqui comparamos o modelo para escolhermos o de melhor acuracia"
      ],
      "metadata": {
        "id": "99-MZXVFJJIQ"
      }
    },
    {
      "cell_type": "code",
      "execution_count": 18,
      "metadata": {
        "id": "tWrv-wgt4bYI",
        "colab": {
          "base_uri": "https://localhost:8080/",
          "height": 478
        },
        "outputId": "0da65e98-3674-4886-8691-a4116ccb587f"
      },
      "outputs": [
        {
          "output_type": "display_data",
          "data": {
            "text/plain": [
              "<Figure size 640x480 with 1 Axes>"
            ],
            "image/png": "[encoded data removed]"
          },
          "metadata": {}
        }
      ],
      "source": [
        "# Boxplot de comparação dos modelos\n",
        "fig = plt.figure()\n",
        "fig.suptitle('Comparação da Acurácia dos Modelos')\n",
        "ax = fig.add_subplot(111)\n",
        "plt.boxplot(results)\n",
        "ax.set_xticklabels(names)\n",
        "plt.show()"
      ]
    },
    {
      "cell_type": "markdown",
      "source": [
        "Dentre os modelos criados, o que apresentou melhor acuracia foi o de Regressao Logistica, apesar do KNN (k = 5) ter apresentado um resultado proximo"
      ],
      "metadata": {
        "id": "S2-4p-AZJp23"
      }
    },
    {
      "cell_type": "code",
      "execution_count": 19,
      "metadata": {
        "id": "gS1n734S4bYJ",
        "colab": {
          "base_uri": "https://localhost:8080/"
        },
        "outputId": "df4f1b17-c12d-4e8b-a48c-ca9811598c9b"
      },
      "outputs": [
        {
          "output_type": "stream",
          "name": "stdout",
          "text": [
            "0.8943934534999447\n"
          ]
        }
      ],
      "source": [
        "model = LogisticRegression(max_iter=200)\n",
        "model.fit(X_train, y_train)\n",
        "predictions = model.predict(X_test)\n",
        "print(accuracy_score(y_test, predictions))"
      ]
    },
    {
      "cell_type": "markdown",
      "source": [
        "verificando o modelo KNN com diferentes valores de k para testar se supera o de regressao logistica"
      ],
      "metadata": {
        "id": "W_tT9u--KSM0"
      }
    },
    {
      "cell_type": "code",
      "execution_count": 20,
      "metadata": {
        "id": "mtD5rWu84bYJ",
        "colab": {
          "base_uri": "https://localhost:8080/",
          "height": 601
        },
        "outputId": "27654182-ffb3-444e-9a1d-903e3d9ee046"
      },
      "outputs": [
        {
          "output_type": "display_data",
          "data": {
            "text/plain": [
              "<Figure size 1000x600 with 1 Axes>"
            ],
            "image/png": "[encoded data removed]"
          },
          "metadata": {}
        },
        {
          "output_type": "stream",
          "name": "stdout",
          "text": [
            "Melhor valor de K: 29\n",
            "Melhor acurácia: 0.8859\n"
          ]
        }
      ],
      "source": [
        "# Testando diferentes valores de K\n",
        "k_valores = range(1, 51, 2)  # Testando valores ímpares de K de 1 a 50\n",
        "k_scores = []\n",
        "\n",
        "for k in k_valores:\n",
        "    knn = KNeighborsClassifier(n_neighbors=k)\n",
        "    # Usando validação cruzada para cada valor de K\n",
        "    scores = cross_val_score(knn, X_train, y_train, cv=kfold, scoring='accuracy')\n",
        "    k_scores.append(scores.mean())\n",
        "\n",
        "# Plotando os resultados\n",
        "plt.figure(figsize=(10, 6))\n",
        "plt.plot(k_valores, k_scores, 'bo-')\n",
        "plt.title('Acurácia do KNN para Diferentes Valores de K')\n",
        "plt.xlabel('Valor de K')\n",
        "plt.ylabel('Acurácia Média (Validação Cruzada)')\n",
        "plt.grid(True)\n",
        "plt.show()\n",
        "\n",
        "# Encontrando o melhor K\n",
        "best_k = k_valores[k_scores.index(max(k_scores))]\n",
        "print(f'Melhor valor de K: {best_k}')\n",
        "print(f'Melhor acurácia: {max(k_scores):.4f}')\n"
      ]
    },
    {
      "cell_type": "markdown",
      "source": [
        "O boxplot mostra que a LR tem uma distribuição de acurácia mais consistente (menor variância)\n",
        "O KNN, mesmo após a otimização do K, não mostrou uma melhoria significativa em relação à LR\n",
        "Portanto, a LR é o modelo escolhido para a classificação"
      ],
      "metadata": {
        "id": "JwB06Ai1KoFc"
      }
    },
    {
      "cell_type": "markdown",
      "source": [
        "#ENSEMBLES\n",
        "aqui e testado os metodos ensembles utilizados nas aulas do curso para possivelmente aprimorar a sua acuracia"
      ],
      "metadata": {
        "id": "weDTvkc5Kv5h"
      }
    },
    {
      "cell_type": "code",
      "execution_count": 22,
      "metadata": {
        "id": "8TMUJ-0Y4bYK",
        "colab": {
          "base_uri": "https://localhost:8080/",
          "height": 1000
        },
        "outputId": "c95c47c5-1ef9-4657-d01e-b9576c21fb7c"
      },
      "outputs": [
        {
          "output_type": "stream",
          "name": "stdout",
          "text": [
            "KNN: 0.883294 (0.004707)\n",
            "CART: 0.871682 (0.004874)\n",
            "NB: 0.853765 (0.007359)\n",
            "SVM: 0.881636 (0.002997)\n",
            "LR: 0.890041 (0.003034)\n",
            "Bagging: 0.902842 (0.005458)\n",
            "RF: 0.903257 (0.002900)\n",
            "ET: 0.899331 (0.003194)\n",
            "Ada: 0.899110 (0.002631)\n",
            "GB: 0.902787 (0.003682)\n",
            "Voting: 0.886308 (0.002098)\n"
          ]
        },
        {
          "output_type": "display_data",
          "data": {
            "text/plain": [
              "<Figure size 1500x1000 with 1 Axes>"
            ],
            "image/png": "[encoded data removed]"
          },
          "metadata": {}
        }
      ],
      "source": [
        "# Definindo os parâmetros do classificador base para o BaggingClassifier\n",
        "base = DecisionTreeClassifier()\n",
        "num_trees = 100\n",
        "max_features = 3\n",
        "\n",
        "# Criando os modelos para o VotingClassifier\n",
        "bases = []\n",
        "model1 = LogisticRegression(max_iter=200)\n",
        "bases.append(('logistic', model1))\n",
        "model2 = KNeighborsClassifier(n_neighbors=best_k)\n",
        "bases.append(('KNN', model2))\n",
        "model3 = SVC()\n",
        "bases.append(('svm', model3))\n",
        "\n",
        "# Criando os ensembles e adicionando-os na lista de modelos\n",
        "models.append(('Bagging', BaggingClassifier(estimator=base, n_estimators=num_trees)))\n",
        "models.append(('RF', RandomForestClassifier(n_estimators=num_trees, max_features=max_features)))\n",
        "models.append(('ET', ExtraTreesClassifier(n_estimators=num_trees, max_features=max_features)))\n",
        "models.append(('Ada', AdaBoostClassifier(n_estimators=num_trees)))\n",
        "models.append(('GB', GradientBoostingClassifier(n_estimators=num_trees)))\n",
        "models.append(('Voting', VotingClassifier(bases)))\n",
        "\n",
        "# Listas para armazenar os resultados\n",
        "results = []\n",
        "names = []\n",
        "\n",
        "# Avaliação dos modelos\n",
        "for name, model in models:\n",
        "    cv_results = cross_val_score(model, X_train, y_train, cv=kfold, scoring=scoring)\n",
        "    results.append(cv_results)\n",
        "    names.append(name)\n",
        "    msg = \"%s: %f (%f)\" % (name, cv_results.mean(), cv_results.std())\n",
        "    print(msg)\n",
        "\n",
        "# Boxplot de comparação dos modelos\n",
        "fig = plt.figure(figsize=(15,10))\n",
        "fig.suptitle('Comparação dos Modelos')\n",
        "ax = fig.add_subplot(111)\n",
        "plt.boxplot(results)\n",
        "ax.set_xticklabels(names)\n",
        "plt.show()"
      ]
    },
    {
      "cell_type": "markdown",
      "source": [
        "podemos ver uma melhora nos resultados, assim definindo o uso do Random Forest como modelo"
      ],
      "metadata": {
        "id": "cGPuRgj9Ll2T"
      }
    },
    {
      "cell_type": "code",
      "execution_count": null,
      "metadata": {
        "id": "WehSgRuF4bYK"
      },
      "outputs": [],
      "source": [
        "model = RandomForestClassifier(n_estimators=num_trees, max_features=max_features)\n",
        "model.fit(X_train, y_train)\n",
        "predictions = model.predict(X_test)\n",
        "\n",
        "# Calculando múltiplas métricas\n",
        "accuracy = accuracy_score(y_test, predictions)\n",
        "precision = precision_score(y_test, predictions)\n",
        "recall = recall_score(y_test, predictions)\n",
        "f1 = f1_score(y_test, predictions)\n",
        "\n",
        "# Imprimindo os resultados\n",
        "print(f'Acurácia: {accuracy:.4f}')\n",
        "print(f'Precisão: {precision:.4f}')\n",
        "print(f'Recall: {recall:.4f}')"
      ]
    },
    {
      "cell_type": "markdown",
      "metadata": {
        "id": "6oFhFhHO4bYK"
      },
      "source": [
        "# FEATURE SELECTION"
      ]
    },
    {
      "cell_type": "markdown",
      "source": [
        "primeiro foi feito um rankeamento das importancias dos atributos"
      ],
      "metadata": {
        "id": "9Dm9XNQ4M0h5"
      }
    },
    {
      "cell_type": "code",
      "execution_count": 24,
      "metadata": {
        "id": "DE046K1G4bYK",
        "colab": {
          "base_uri": "https://localhost:8080/",
          "height": 607
        },
        "outputId": "c012fa49-d606-4f4d-a4ba-c8aeb4267c33"
      },
      "outputs": [
        {
          "output_type": "display_data",
          "data": {
            "text/plain": [
              "<Figure size 1200x600 with 1 Axes>"
            ],
            "image/png": "[encoded data removed]"
          },
          "metadata": {}
        }
      ],
      "source": [
        "feature_names = ['idade', 'emprego', 'estado_civil', 'educacao', 'default',\n",
        "                'balanco_medio_anual', 'hipoteca', 'emprestimo_pessoal',\n",
        "                'contato', 'dia', 'mes', 'duracao_chamada', 'qtd_contatos',\n",
        "                'dias_ultimo_contato', 'qtd_contatos_total', 'campanha_anterior']\n",
        "\n",
        "# Criar e treinar o modelo\n",
        "rf_model = RandomForestClassifier(n_estimators=100, random_state=42)\n",
        "rf_model.fit(X_train, y_train)\n",
        "\n",
        "# Obter a importância das features\n",
        "importances = rf_model.feature_importances_\n",
        "\n",
        "# Criar um DataFrame com as importâncias\n",
        "feature_importance_df = pd.DataFrame({\n",
        "    'Feature': feature_names,\n",
        "    'Importance': importances\n",
        "})\n",
        "\n",
        "# Ordenar por importância\n",
        "feature_importance_df = feature_importance_df.sort_values('Importance', ascending=False)\n",
        "\n",
        "# Plotar um gráfico de barras\n",
        "plt.figure(figsize=(12, 6))\n",
        "plt.bar(feature_importance_df['Feature'], feature_importance_df['Importance'])\n",
        "plt.xticks(rotation=45, ha='right')\n",
        "plt.title('Importância dos Atributos')\n",
        "plt.xlabel('Atributos')\n",
        "plt.ylabel('Importância')\n",
        "plt.tight_layout()\n",
        "plt.show()\n",
        "\n",
        "# Imprimir os valores\n",
        "print(\"\\nImportância de cada atributo:\")\n",
        "for idx, row in feature_importance_df.iterrows():\n",
        "    print(f\"{row['Feature']}: {row['Importance']:.4f}\")"
      ]
    },
    {
      "cell_type": "markdown",
      "source": [
        "aqui faremos uma exclusao dos atributos de menor importancia e testamos o modelo"
      ],
      "metadata": {
        "id": "Lp2yZqLRNA_N"
      }
    },
    {
      "cell_type": "code",
      "execution_count": 27,
      "metadata": {
        "id": "r689-iHj4bYL",
        "colab": {
          "base_uri": "https://localhost:8080/"
        },
        "outputId": "cfc69dc9-33c8-408b-c75d-cfe4db9faa3d"
      },
      "outputs": [
        {
          "output_type": "stream",
          "name": "stdout",
          "text": [
            "Acurácia: 0.9082\n",
            "Precisão: 0.6388\n",
            "Recall: 0.4213\n"
          ]
        }
      ],
      "source": [
        "db2 = db.drop('default', axis=1)\n",
        "array = db2.values\n",
        "X = array[:,0:15] # atributos\n",
        "y = array[:,15] # classe (target)\n",
        "\n",
        "X_train, X_test, y_train, y_test = train_test_split(X, y, test_size=0.20, random_state=7) # faz a divisão\n",
        "\n",
        "model = RandomForestClassifier(n_estimators=num_trees, max_features=max_features)\n",
        "model.fit(X_train, y_train)\n",
        "predictions = model.predict(X_test)\n",
        "\n",
        "# Calculando múltiplas métricas\n",
        "accuracy = accuracy_score(y_test, predictions)\n",
        "precision = precision_score(y_test, predictions)\n",
        "recall = recall_score(y_test, predictions)\n",
        "f1 = f1_score(y_test, predictions)\n",
        "\n",
        "# Imprimindo os resultados\n",
        "print(f'Acurácia: {accuracy:.4f}')\n",
        "print(f'Precisão: {precision:.4f}')\n",
        "print(f'Recall: {recall:.4f}')\n"
      ]
    },
    {
      "cell_type": "markdown",
      "source": [
        "o atributo default foi removido sem perdas significativas para o modelo"
      ],
      "metadata": {
        "id": "yTfzhM-6NJMo"
      }
    },
    {
      "cell_type": "code",
      "execution_count": 28,
      "metadata": {
        "id": "CzYEzZt-4bYL",
        "colab": {
          "base_uri": "https://localhost:8080/"
        },
        "outputId": "a92b5838-b423-4c45-b59d-7cb3de4e3d3c"
      },
      "outputs": [
        {
          "output_type": "stream",
          "name": "stdout",
          "text": [
            "Acurácia: 0.9090\n",
            "Precisão: 0.6496\n",
            "Recall: 0.4124\n"
          ]
        }
      ],
      "source": [
        "db3 = db2.drop('emprestimo_pessoal', axis=1)\n",
        "array = db3.values\n",
        "X = array[:,0:14] # atributos\n",
        "y = array[:,14] # classe (target)\n",
        "\n",
        "X_train, X_test, y_train, y_test = train_test_split(X, y, test_size=0.20, random_state=7) # faz a divisão\n",
        "\n",
        "\n",
        "model = RandomForestClassifier(n_estimators=num_trees, max_features=max_features)\n",
        "model.fit(X_train, y_train)\n",
        "predictions = model.predict(X_test)\n",
        "\n",
        "# Calculando múltiplas métricas\n",
        "accuracy = accuracy_score(y_test, predictions)\n",
        "precision = precision_score(y_test, predictions)\n",
        "recall = recall_score(y_test, predictions)\n",
        "f1 = f1_score(y_test, predictions)\n",
        "\n",
        "# Imprimindo os resultados\n",
        "print(f'Acurácia: {accuracy:.4f}')\n",
        "print(f'Precisão: {precision:.4f}')\n",
        "print(f'Recall: {recall:.4f}')"
      ]
    },
    {
      "cell_type": "markdown",
      "source": [
        "removendo o atributo 'emprestimo_pessoal' continuamos sem perdas"
      ],
      "metadata": {
        "id": "W52oy7kLNUUO"
      }
    },
    {
      "cell_type": "code",
      "execution_count": 29,
      "metadata": {
        "id": "9DPefjeO4bYL",
        "colab": {
          "base_uri": "https://localhost:8080/"
        },
        "outputId": "9d881e21-49db-4176-824c-22dce43349e5"
      },
      "outputs": [
        {
          "output_type": "stream",
          "name": "stdout",
          "text": [
            "Acurácia: 0.9083\n",
            "Precisão: 0.6441\n",
            "Recall: 0.4114\n"
          ]
        }
      ],
      "source": [
        "db4 = db3.drop('contato', axis=1)\n",
        "array = db4.values\n",
        "X = array[:,0:13] # atributos\n",
        "y = array[:,13] # classe (target)\n",
        "\n",
        "X_train, X_test, y_train, y_test = train_test_split(X, y, test_size=0.20, random_state=7) # faz a divisão\n",
        "# Listas para armazenar os modelos, os resultados e os nomes dos modelos\n",
        "\n",
        "model = RandomForestClassifier(n_estimators=num_trees, max_features=max_features)\n",
        "model.fit(X_train, y_train)\n",
        "predictions = model.predict(X_test)\n",
        "\n",
        "# Calculando múltiplas métricas\n",
        "accuracy = accuracy_score(y_test, predictions)\n",
        "precision = precision_score(y_test, predictions)\n",
        "recall = recall_score(y_test, predictions)\n",
        "f1 = f1_score(y_test, predictions)\n",
        "\n",
        "# Imprimindo os resultados\n",
        "print(f'Acurácia: {accuracy:.4f}')\n",
        "print(f'Precisão: {precision:.4f}')\n",
        "print(f'Recall: {recall:.4f}')"
      ]
    },
    {
      "cell_type": "code",
      "execution_count": 31,
      "metadata": {
        "colab": {
          "base_uri": "https://localhost:8080/"
        },
        "outputId": "e47ac306-6743-4a5f-800e-a1aa712efb6e",
        "id": "P7xpnqJsWFS4"
      },
      "outputs": [
        {
          "output_type": "stream",
          "name": "stdout",
          "text": [
            "Acurácia: 0.9073\n",
            "Precisão: 0.6332\n",
            "Recall: 0.4163\n"
          ]
        }
      ],
      "source": [
        "db5 = db4.drop('estado_civil', axis=1)\n",
        "array = db5.values\n",
        "X = array[:,0:12] # atributos\n",
        "y = array[:,12] # classe (target)\n",
        "\n",
        "X_train, X_test, y_train, y_test = train_test_split(X, y, test_size=0.20, random_state=7) # faz a divisão\n",
        "# Listas para armazenar os modelos, os resultados e os nomes dos modelos\n",
        "\n",
        "model = RandomForestClassifier(n_estimators=num_trees, max_features=max_features)\n",
        "model.fit(X_train, y_train)\n",
        "predictions = model.predict(X_test)\n",
        "\n",
        "# Calculando múltiplas métricas\n",
        "accuracy = accuracy_score(y_test, predictions)\n",
        "precision = precision_score(y_test, predictions)\n",
        "recall = recall_score(y_test, predictions)\n",
        "f1 = f1_score(y_test, predictions)\n",
        "\n",
        "# Imprimindo os resultados\n",
        "print(f'Acurácia: {accuracy:.4f}')\n",
        "print(f'Precisão: {precision:.4f}')\n",
        "print(f'Recall: {recall:.4f}')"
      ]
    },
    {
      "cell_type": "markdown",
      "source": [
        "ao removermos o atributo 'estado_civil' ja podemos ver uma perda de acuracia."
      ],
      "metadata": {
        "id": "MvWtnq5LNele"
      }
    }
  ],
  "metadata": {
    "kernelspec": {
      "display_name": "Python 3",
      "language": "python",
      "name": "python3"
    },
    "language_info": {
      "codemirror_mode": {
        "name": "ipython",
        "version": 3
      },
      "file_extension": ".py",
      "mimetype": "text/x-python",
      "name": "python",
      "nbconvert_exporter": "python",
      "pygments_lexer": "ipython3",
      "version": "3.12.2"
    },
    "colab": {
      "provenance": [],
      "include_colab_link": true
    }
  },
  "nbformat": 4,
  "nbformat_minor": 0
}